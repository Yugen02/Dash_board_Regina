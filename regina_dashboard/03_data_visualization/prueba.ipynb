{
 "cells": [
  {
   "cell_type": "code",
   "execution_count": 1,
   "metadata": {},
   "outputs": [],
   "source": [
    "from dash import Dash, dcc, html, Input, Output\n",
    "import plotly.express as px\n",
    "import pandas as pd\n",
    "import chart_studio"
   ]
  },
  {
   "cell_type": "code",
   "execution_count": 2,
   "metadata": {},
   "outputs": [],
   "source": [
    "username = 'Yugen02'\n",
    "api_key = 'Vvda56TicCWGrr6OLqd8'\n",
    "\n",
    "chart_studio.tools.set_credentials_file(username=username,api_key=api_key)\n",
    "\n",
    "import chart_studio as py\n",
    "import chart_studio.tools as tls"
   ]
  },
  {
   "cell_type": "code",
   "execution_count": 3,
   "metadata": {},
   "outputs": [],
   "source": [
    "df = pd.read_csv('https://raw.githubusercontent.com/Yugen02/Dash_board_Regina/master/regina_dashboard/02_data_preparation/Casos_Region_Exacta.csv')"
   ]
  },
  {
   "cell_type": "code",
   "execution_count": 4,
   "metadata": {},
   "outputs": [
    {
     "data": {
      "application/vnd.plotly.v1+json": {
       "config": {
        "plotlyServerURL": "https://plotly.com"
       },
       "data": [
        {
         "hovertemplate": "<b>%{hovertext}</b><br><br>Distrito=PARITA<br>Region=%{x}<br>Casos=%{marker.size}<extra></extra>",
         "hovertext": [
          "PARIS",
          "POTUGA",
          "PARITA",
          "CABUYA (HERRERA)",
          "PORTOBELILLO",
          "LOS CASTILLOS (HERRERA)",
          "LLANO DE LA CRUZ"
         ],
         "legendgroup": "PARITA",
         "marker": {
          "color": "#636efa",
          "size": [
           39,
           48,
           214,
           23,
           13,
           43,
           7
          ],
          "sizemode": "area",
          "sizeref": 5.514375,
          "symbol": "circle"
         },
         "mode": "markers",
         "name": "PARITA",
         "orientation": "v",
         "showlegend": true,
         "type": "scatter",
         "x": [
          "HERRERA",
          "HERRERA",
          "HERRERA",
          "HERRERA",
          "HERRERA",
          "HERRERA",
          "HERRERA"
         ],
         "xaxis": "x",
         "y": [
          39,
          48,
          214,
          23,
          13,
          43,
          7
         ],
         "yaxis": "y"
        },
        {
         "hovertemplate": "<b>%{hovertext}</b><br><br>Distrito=PANAMA<br>Region=%{x}<br>Casos=%{marker.size}<extra></extra>",
         "hovertext": [
          "SAN FRANCISCO (PANAMA)",
          "JUAN DIAZ (PANAMA)",
          "LAS CUMBRES",
          "BETANIA",
          "ERNESTO CORDOBA CAMPOS",
          "BELLA VISTA (PANAMA)",
          "CHILIBRE",
          "ANCON",
          "ALCALDE DIAZ",
          "PACORA",
          "PUEBLO NUEVO",
          "PARQUE LEFEVRE",
          "RIO ABAJO",
          "PEDREGAL (PANAMA)",
          "DON BOSCO",
          "SANTA ANA (PANAMA)",
          "SAN FELIPE",
          "TOCUMEN",
          "24 DE DICIEMBRE",
          "CALIDONIA (PANAMA)",
          "CAIMITILLO",
          "LAS MAÑANITAS",
          "CURUNDU",
          "EL CHORRILLO",
          "SAN MARTIN (PANAMA ESTE)",
          "LAS GARZAS"
         ],
         "legendgroup": "PANAMA",
         "marker": {
          "color": "#EF553B",
          "size": [
           6506,
           7738,
           4962,
           4778,
           5658,
           3838,
           4737,
           3181,
           5527,
           6323,
           2332,
           4327,
           3378,
           5517,
           4104,
           1935,
           228,
           8823,
           7392,
           2244,
           1887,
           4552,
           1533,
           2024,
           614,
           1186
          ],
          "sizemode": "area",
          "sizeref": 5.514375,
          "symbol": "circle"
         },
         "mode": "markers",
         "name": "PANAMA",
         "orientation": "v",
         "showlegend": true,
         "type": "scatter",
         "x": [
          "METROPOLITANA",
          "METROPOLITANA",
          "PANAMA NORTE",
          "METROPOLITANA",
          "PANAMA NORTE",
          "METROPOLITANA",
          "PANAMA NORTE",
          "METROPOLITANA",
          "PANAMA NORTE",
          "PANAMA ESTE",
          "METROPOLITANA",
          "METROPOLITANA",
          "METROPOLITANA",
          "METROPOLITANA",
          "METROPOLITANA",
          "METROPOLITANA",
          "METROPOLITANA",
          "METROPOLITANA",
          "METROPOLITANA",
          "METROPOLITANA",
          "PANAMA NORTE",
          "METROPOLITANA",
          "METROPOLITANA",
          "METROPOLITANA",
          "PANAMA ESTE",
          "METROPOLITANA"
         ],
         "xaxis": "x",
         "y": [
          6506,
          7738,
          4962,
          4778,
          5658,
          3838,
          4737,
          3181,
          5527,
          6323,
          2332,
          4327,
          3378,
          5517,
          4104,
          1935,
          228,
          8823,
          7392,
          2244,
          1887,
          4552,
          1533,
          2024,
          614,
          1186
         ],
         "yaxis": "y"
        },
        {
         "hovertemplate": "<b>%{hovertext}</b><br><br>Distrito=ARRAIJAN<br>Region=%{x}<br>Casos=%{marker.size}<extra></extra>",
         "hovertext": [
          "JUAN DEMOSTENES AROSEMENA",
          "NUEVO EMPERADOR",
          "ARRAIJAN",
          "VERACRUZ",
          "VISTA ALEGRE",
          "CERRO SILVESTRE",
          "BURUNGA",
          "SANTA CLARA (PANAMA OESTE)"
         ],
         "legendgroup": "ARRAIJAN",
         "marker": {
          "color": "#00cc96",
          "size": [
           5946,
           1127,
           8243,
           2338,
           8506,
           2914,
           4307,
           237
          ],
          "sizemode": "area",
          "sizeref": 5.514375,
          "symbol": "circle"
         },
         "mode": "markers",
         "name": "ARRAIJAN",
         "orientation": "v",
         "showlegend": true,
         "type": "scatter",
         "x": [
          "PANAMA OESTE",
          "PANAMA OESTE",
          "PANAMA OESTE",
          "METROPOLITANA",
          "PANAMA OESTE",
          "PANAMA OESTE",
          "PANAMA OESTE",
          "PANAMA OESTE"
         ],
         "xaxis": "x",
         "y": [
          5946,
          1127,
          8243,
          2338,
          8506,
          2914,
          4307,
          237
         ],
         "yaxis": "y"
        },
        {
         "hovertemplate": "<b>%{hovertext}</b><br><br>Distrito=SAN MIGUELITO<br>Region=%{x}<br>Casos=%{marker.size}<extra></extra>",
         "hovertext": [
          "AMELIA DENIS DE ICAZA",
          "OMAR TORRIJOS",
          "RUFINA ALFARO",
          "BELISARIO PORRAS",
          "JOSE DOMINGO ESPINAR",
          "ARNULFO ARIAS",
          "MATEO ITURRALDE",
          "BELISARIO FRIAS",
          "VICTORIANO LORENZO"
         ],
         "legendgroup": "SAN MIGUELITO",
         "marker": {
          "color": "#ab63fa",
          "size": [
           4815,
           4195,
           4078,
           5357,
           3902,
           2534,
           1567,
           5257,
           1676
          ],
          "sizemode": "area",
          "sizeref": 5.514375,
          "symbol": "circle"
         },
         "mode": "markers",
         "name": "SAN MIGUELITO",
         "orientation": "v",
         "showlegend": true,
         "type": "scatter",
         "x": [
          "SAN MIGUELITO",
          "SAN MIGUELITO",
          "SAN MIGUELITO",
          "SAN MIGUELITO",
          "SAN MIGUELITO",
          "SAN MIGUELITO",
          "SAN MIGUELITO",
          "SAN MIGUELITO",
          "SAN MIGUELITO"
         ],
         "xaxis": "x",
         "y": [
          4815,
          4195,
          4078,
          5357,
          3902,
          2534,
          1567,
          5257,
          1676
         ],
         "yaxis": "y"
        },
        {
         "hovertemplate": "<b>%{hovertext}</b><br><br>Distrito=LA CHORRERA<br>Region=%{x}<br>Casos=%{marker.size}<extra></extra>",
         "hovertext": [
          "BARRIO COLON",
          "GUADALUPE",
          "OBALDIA",
          "HERRERA",
          "SANTA RITA (PANAMA OESTE)",
          "PLAYA LEONA",
          "BARRIO BALBOA",
          "PUERTO CAIMITO",
          "AMADOR",
          "EL COCO (PANAMA OESTE)",
          "EL ARADO",
          "LOS DIAZ",
          "FEUILLET",
          "LA REPRESA",
          "MENDOZA",
          "ITURRALDE",
          "HURTADO",
          "AROSEMENA"
         ],
         "legendgroup": "LA CHORRERA",
         "marker": {
          "color": "#FFA15A",
          "size": [
           4211,
           4155,
           28,
           2047,
           140,
           2482,
           3156,
           3786,
           188,
           2083,
           537,
           76,
           310,
           33,
           142,
           64,
           87,
           70
          ],
          "sizemode": "area",
          "sizeref": 5.514375,
          "symbol": "circle"
         },
         "mode": "markers",
         "name": "LA CHORRERA",
         "orientation": "v",
         "showlegend": true,
         "type": "scatter",
         "x": [
          "PANAMA OESTE",
          "PANAMA OESTE",
          "PANAMA OESTE",
          "PANAMA OESTE",
          "PANAMA OESTE",
          "PANAMA OESTE",
          "PANAMA OESTE",
          "PANAMA OESTE",
          "PANAMA OESTE",
          "PANAMA OESTE",
          "PANAMA OESTE",
          "PANAMA OESTE",
          "PANAMA OESTE",
          "PANAMA OESTE",
          "PANAMA OESTE",
          "PANAMA OESTE",
          "PANAMA OESTE",
          "PANAMA OESTE"
         ],
         "xaxis": "x",
         "y": [
          4211,
          4155,
          28,
          2047,
          140,
          2482,
          3156,
          3786,
          188,
          2083,
          537,
          76,
          310,
          33,
          142,
          64,
          87,
          70
         ],
         "yaxis": "y"
        },
        {
         "hovertemplate": "<b>%{hovertext}</b><br><br>Distrito=COLON<br>Region=%{x}<br>Casos=%{marker.size}<extra></extra>",
         "hovertext": [
          "BARRIO NORTE",
          "CRISTOBAL",
          "CATIVA",
          "SABANITAS",
          "SAN JUAN (COLON)",
          "PUERTO PILON",
          "NUEVA PROVIDENCIA",
          "BUENA VISTA (COLON)",
          "SALAMANCA",
          "BARRIO SUR",
          "LIMON",
          "CRISTOBAL ESTE",
          "ESCOBAL",
          "CIRICITO",
          "SANTA ROSA (COLON)"
         ],
         "legendgroup": "COLON",
         "marker": {
          "color": "#19d3f3",
          "size": [
           719,
           3053,
           2270,
           1793,
           1522,
           915,
           594,
           1339,
           244,
           355,
           261,
           757,
           210,
           106,
           95
          ],
          "sizemode": "area",
          "sizeref": 5.514375,
          "symbol": "circle"
         },
         "mode": "markers",
         "name": "COLON",
         "orientation": "v",
         "showlegend": true,
         "type": "scatter",
         "x": [
          "COLON",
          "COLON",
          "COLON",
          "COLON",
          "COLON",
          "COLON",
          "COLON",
          "COLON",
          "COLON",
          "COLON",
          "COLON",
          "COLON",
          "COLON",
          "COLON",
          "COLON"
         ],
         "xaxis": "x",
         "y": [
          719,
          3053,
          2270,
          1793,
          1522,
          915,
          594,
          1339,
          244,
          355,
          261,
          757,
          210,
          106,
          95
         ],
         "yaxis": "y"
        },
        {
         "hovertemplate": "<b>%{hovertext}</b><br><br>Distrito=SONA<br>Region=%{x}<br>Casos=%{marker.size}<extra></extra>",
         "hovertext": [
          "SONA",
          "HICACO",
          "BAHIA HONDA (VERAGUAS)",
          "EL MARAÑON",
          "LA TRINCHERA",
          "RIO GRANDE (VERAGUAS)",
          "GUARUMAL (VERAGUAS)",
          "RODEO VIEJO",
          "LA SOLEDAD",
          "QUEBRADA DE ORO (VERAGUAS)",
          "CATIVE",
          "CALIDONIA (VERAGUAS)"
         ],
         "legendgroup": "SONA",
         "marker": {
          "color": "#FF6692",
          "size": [
           1601,
           58,
           34,
           180,
           41,
           73,
           121,
           70,
           134,
           18,
           8,
           77
          ],
          "sizemode": "area",
          "sizeref": 5.514375,
          "symbol": "circle"
         },
         "mode": "markers",
         "name": "SONA",
         "orientation": "v",
         "showlegend": true,
         "type": "scatter",
         "x": [
          "VERAGUAS",
          "VERAGUAS",
          "VERAGUAS",
          "VERAGUAS",
          "VERAGUAS",
          "VERAGUAS",
          "VERAGUAS",
          "VERAGUAS",
          "VERAGUAS",
          "VERAGUAS",
          "VERAGUAS",
          "VERAGUAS"
         ],
         "xaxis": "x",
         "y": [
          1601,
          58,
          34,
          180,
          41,
          73,
          121,
          70,
          134,
          18,
          8,
          77
         ],
         "yaxis": "y"
        },
        {
         "hovertemplate": "<b>%{hovertext}</b><br><br>Distrito=SANTIAGO<br>Region=%{x}<br>Casos=%{marker.size}<extra></extra>",
         "hovertext": [
          "SANTIAGO",
          "PONUGA",
          "EDWIN FABREGA",
          "SAN MARTIN DE PORRES (SANTIAGO)",
          "LA COLORADA (VERAGUAS)",
          "LA PEÑA (VERAGUAS)",
          "NUEVO SANTIAGO",
          "CANTO DEL LLANO",
          "RODRIGO LUQUE",
          "SAN PEDRO DEL ESPINO",
          "LOS ALGARROBOS (VERAGUAS)",
          "CARLOS SANTANA AVILA",
          "URRACA",
          "LA RAYA DE SANTA MARIA",
          "SANTIAGO ESTE",
          "SANTIAGO SUR"
         ],
         "legendgroup": "SANTIAGO",
         "marker": {
          "color": "#B6E880",
          "size": [
           4042,
           108,
           260,
           1283,
           122,
           337,
           526,
           1122,
           570,
           152,
           291,
           301,
           85,
           133,
           29,
           42
          ],
          "sizemode": "area",
          "sizeref": 5.514375,
          "symbol": "circle"
         },
         "mode": "markers",
         "name": "SANTIAGO",
         "orientation": "v",
         "showlegend": true,
         "type": "scatter",
         "x": [
          "VERAGUAS",
          "VERAGUAS",
          "VERAGUAS",
          "VERAGUAS",
          "VERAGUAS",
          "VERAGUAS",
          "VERAGUAS",
          "VERAGUAS",
          "VERAGUAS",
          "VERAGUAS",
          "VERAGUAS",
          "VERAGUAS",
          "VERAGUAS",
          "VERAGUAS",
          "VERAGUAS",
          "VERAGUAS"
         ],
         "xaxis": "x",
         "y": [
          4042,
          108,
          260,
          1283,
          122,
          337,
          526,
          1122,
          570,
          152,
          291,
          301,
          85,
          133,
          29,
          42
         ],
         "yaxis": "y"
        },
        {
         "hovertemplate": "<b>%{hovertext}</b><br><br>Distrito=ATALAYA<br>Region=%{x}<br>Casos=%{marker.size}<extra></extra>",
         "hovertext": [
          "SAN ANTONIO",
          "ATALAYA",
          "EL BARRITO",
          "LA CARRILLO",
          "LA MONTAÑUELA"
         ],
         "legendgroup": "ATALAYA",
         "marker": {
          "color": "#FF97FF",
          "size": [
           448,
           699,
           49,
           29,
           35
          ],
          "sizemode": "area",
          "sizeref": 5.514375,
          "symbol": "circle"
         },
         "mode": "markers",
         "name": "ATALAYA",
         "orientation": "v",
         "showlegend": true,
         "type": "scatter",
         "x": [
          "VERAGUAS",
          "VERAGUAS",
          "VERAGUAS",
          "VERAGUAS",
          "VERAGUAS"
         ],
         "xaxis": "x",
         "y": [
          448,
          699,
          49,
          29,
          35
         ],
         "yaxis": "y"
        },
        {
         "hovertemplate": "<b>%{hovertext}</b><br><br>Distrito=CHEPO<br>Region=%{x}<br>Casos=%{marker.size}<extra></extra>",
         "hovertext": [
          "CHEPO (PANAMA ESTE)",
          "TORTI",
          "EL LLANO",
          "CAÑITA",
          "LAS MARGARITAS",
          "COMARCA MADUNGANDI",
          "CHEPILLO",
          "SANTA CRUZ DE CHININA"
         ],
         "legendgroup": "CHEPO",
         "marker": {
          "color": "#FECB52",
          "size": [
           2877,
           736,
           146,
           261,
           394,
           37,
           3,
           6
          ],
          "sizemode": "area",
          "sizeref": 5.514375,
          "symbol": "circle"
         },
         "mode": "markers",
         "name": "CHEPO",
         "orientation": "v",
         "showlegend": true,
         "type": "scatter",
         "x": [
          "PANAMA ESTE",
          "PANAMA ESTE",
          "PANAMA ESTE",
          "PANAMA ESTE",
          "PANAMA ESTE",
          "PANAMA ESTE",
          "PANAMA ESTE",
          "PANAMA ESTE"
         ],
         "xaxis": "x",
         "y": [
          2877,
          736,
          146,
          261,
          394,
          37,
          3,
          6
         ],
         "yaxis": "y"
        },
        {
         "hovertemplate": "<b>%{hovertext}</b><br><br>Distrito=PENONOME<br>Region=%{x}<br>Casos=%{marker.size}<extra></extra>",
         "hovertext": [
          "CAÑAVERAL (COCLE)",
          "EL COCO (COCLE)",
          "PENONOME",
          "PAJONAL (COCLE)",
          "TOABRE",
          "CHIGUIRI ARRIBA",
          "TULU",
          "RIO GRANDE (COCLE)",
          "COCLE",
          "RIO INDIO (COCLE)"
         ],
         "legendgroup": "PENONOME",
         "marker": {
          "color": "#636efa",
          "size": [
           511,
           447,
           2194,
           614,
           368,
           238,
           126,
           167,
           186,
           22
          ],
          "sizemode": "area",
          "sizeref": 5.514375,
          "symbol": "circle"
         },
         "mode": "markers",
         "name": "PENONOME",
         "orientation": "v",
         "showlegend": true,
         "type": "scatter",
         "x": [
          "COCLE",
          "COCLE",
          "COCLE",
          "COCLE",
          "COCLE",
          "COCLE",
          "COCLE",
          "COCLE",
          "COCLE",
          "COCLE"
         ],
         "xaxis": "x",
         "y": [
          511,
          447,
          2194,
          614,
          368,
          238,
          126,
          167,
          186,
          22
         ],
         "yaxis": "y"
        },
        {
         "hovertemplate": "<b>%{hovertext}</b><br><br>Distrito=AGUADULCE<br>Region=%{x}<br>Casos=%{marker.size}<extra></extra>",
         "hovertext": [
          "POCRI (COCLE)",
          "AGUADULCE",
          "BARRIOS UNIDOS",
          "EL ROBLE",
          "EL HATO DE SAN JUAN DE DIOS",
          "EL CRISTO (COCLE)",
          "VIRGEN DEL CARMEN",
          "PUEBLOS UNIDOS"
         ],
         "legendgroup": "AGUADULCE",
         "marker": {
          "color": "#EF553B",
          "size": [
           640,
           1096,
           874,
           431,
           90,
           193,
           475,
           286
          ],
          "sizemode": "area",
          "sizeref": 5.514375,
          "symbol": "circle"
         },
         "mode": "markers",
         "name": "AGUADULCE",
         "orientation": "v",
         "showlegend": true,
         "type": "scatter",
         "x": [
          "COCLE",
          "COCLE",
          "COCLE",
          "COCLE",
          "COCLE",
          "COCLE",
          "COCLE",
          "COCLE"
         ],
         "xaxis": "x",
         "y": [
          640,
          1096,
          874,
          431,
          90,
          193,
          475,
          286
         ],
         "yaxis": "y"
        },
        {
         "hovertemplate": "<b>%{hovertext}</b><br><br>Distrito=BOQUERON<br>Region=%{x}<br>Casos=%{marker.size}<extra></extra>",
         "hovertext": [
          "TIJERAS",
          "BOQUERON",
          "BAGALA",
          "PEDREGAL (BOQUERON)",
          "PARAISO (CHIRIQUI)",
          "GUABAL",
          "GUAYABAL",
          "CORDILLERA"
         ],
         "legendgroup": "BOQUERON",
         "marker": {
          "color": "#00cc96",
          "size": [
           102,
           643,
           292,
           204,
           13,
           26,
           79,
           14
          ],
          "sizemode": "area",
          "sizeref": 5.514375,
          "symbol": "circle"
         },
         "mode": "markers",
         "name": "BOQUERON",
         "orientation": "v",
         "showlegend": true,
         "type": "scatter",
         "x": [
          "CHIRIQUI",
          "CHIRIQUI",
          "CHIRIQUI",
          "CHIRIQUI",
          "CHIRIQUI",
          "CHIRIQUI",
          "CHIRIQUI",
          "CHIRIQUI"
         ],
         "xaxis": "x",
         "y": [
          102,
          643,
          292,
          204,
          13,
          26,
          79,
          14
         ],
         "yaxis": "y"
        },
        {
         "hovertemplate": "<b>%{hovertext}</b><br><br>Distrito=CAPIRA<br>Region=%{x}<br>Casos=%{marker.size}<extra></extra>",
         "hovertext": [
          "LIDICE",
          "VILLA ROSARIO",
          "CAPIRA",
          "CERMEÑO",
          "LAS OLLAS ARRIBA",
          "CAIMITO (PANAMA OESTE)",
          "CAMPANA",
          "VILLA CARMEN",
          "EL CACAO (PANAMA OESTE)",
          "SANTA ROSA (PANAMA OESTE)",
          "LA TRINIDAD",
          "CIRI GRANDE",
          "CIRI DE LOS SOTOS"
         ],
         "legendgroup": "CAPIRA",
         "marker": {
          "color": "#ab63fa",
          "size": [
           566,
           423,
           729,
           117,
           117,
           168,
           213,
           154,
           158,
           75,
           56,
           53,
           17
          ],
          "sizemode": "area",
          "sizeref": 5.514375,
          "symbol": "circle"
         },
         "mode": "markers",
         "name": "CAPIRA",
         "orientation": "v",
         "showlegend": true,
         "type": "scatter",
         "x": [
          "PANAMA OESTE",
          "PANAMA OESTE",
          "PANAMA OESTE",
          "PANAMA OESTE",
          "PANAMA OESTE",
          "PANAMA OESTE",
          "PANAMA OESTE",
          "PANAMA OESTE",
          "PANAMA OESTE",
          "PANAMA OESTE",
          "PANAMA OESTE",
          "PANAMA OESTE",
          "PANAMA OESTE"
         ],
         "xaxis": "x",
         "y": [
          566,
          423,
          729,
          117,
          117,
          168,
          213,
          154,
          158,
          75,
          56,
          53,
          17
         ],
         "yaxis": "y"
        },
        {
         "hovertemplate": "<b>%{hovertext}</b><br><br>Distrito=MONTIJO<br>Region=%{x}<br>Casos=%{marker.size}<extra></extra>",
         "hovertext": [
          "MONTIJO",
          "COSTA HERMOSA",
          "PILON",
          "LEONES (VERAGUAS)",
          "UNION DEL NORTE",
          "LA GARCEANA",
          "CEBACO"
         ],
         "legendgroup": "MONTIJO",
         "marker": {
          "color": "#FFA15A",
          "size": [
           327,
           172,
           185,
           11,
           12,
           6,
           8
          ],
          "sizemode": "area",
          "sizeref": 5.514375,
          "symbol": "circle"
         },
         "mode": "markers",
         "name": "MONTIJO",
         "orientation": "v",
         "showlegend": true,
         "type": "scatter",
         "x": [
          "VERAGUAS",
          "VERAGUAS",
          "VERAGUAS",
          "VERAGUAS",
          "VERAGUAS",
          "VERAGUAS",
          "VERAGUAS"
         ],
         "xaxis": "x",
         "y": [
          327,
          172,
          185,
          11,
          12,
          6,
          8
         ],
         "yaxis": "y"
        },
        {
         "hovertemplate": "<b>%{hovertext}</b><br><br>Distrito=ALANJE<br>Region=%{x}<br>Casos=%{marker.size}<extra></extra>",
         "hovertext": [
          "SANTO TOMAS",
          "ALANJE",
          "DIVALA",
          "EL TEJAR",
          "NUEVO MEXICO",
          "CANTA GALLO",
          "QUEREVALO",
          "GUARUMAL (CHIRIQUI)",
          "PALO GRANDE"
         ],
         "legendgroup": "ALANJE",
         "marker": {
          "color": "#19d3f3",
          "size": [
           58,
           347,
           342,
           131,
           98,
           25,
           125,
           149,
           25
          ],
          "sizemode": "area",
          "sizeref": 5.514375,
          "symbol": "circle"
         },
         "mode": "markers",
         "name": "ALANJE",
         "orientation": "v",
         "showlegend": true,
         "type": "scatter",
         "x": [
          "CHIRIQUI",
          "CHIRIQUI",
          "CHIRIQUI",
          "CHIRIQUI",
          "CHIRIQUI",
          "CHIRIQUI",
          "CHIRIQUI",
          "CHIRIQUI",
          "CHIRIQUI"
         ],
         "xaxis": "x",
         "y": [
          58,
          347,
          342,
          131,
          98,
          25,
          125,
          149,
          25
         ],
         "yaxis": "y"
        },
        {
         "hovertemplate": "<b>%{hovertext}</b><br><br>Distrito=BUGABA<br>Region=%{x}<br>Casos=%{marker.size}<extra></extra>",
         "hovertext": [
          "ASERRIO DE GARICHE",
          "SANTA MARTA (CHIRIQUI)",
          "SAN ISIDRO (CHIRIQUI)",
          "LA ESTRELLA",
          "SANTO DOMINGO (CHIRIQUI)",
          "BUGABA",
          "LA CONCEPCION",
          "SAN ANDRES",
          "GOMEZ",
          "SORTOVA",
          "SOLANO",
          "EL BONGO",
          "SANTA ROSA (CHIRIQUI)"
         ],
         "legendgroup": "BUGABA",
         "marker": {
          "color": "#FF6692",
          "size": [
           695,
           244,
           167,
           289,
           186,
           1243,
           1813,
           169,
           60,
           131,
           281,
           81,
           87
          ],
          "sizemode": "area",
          "sizeref": 5.514375,
          "symbol": "circle"
         },
         "mode": "markers",
         "name": "BUGABA",
         "orientation": "v",
         "showlegend": true,
         "type": "scatter",
         "x": [
          "CHIRIQUI",
          "CHIRIQUI",
          "CHIRIQUI",
          "CHIRIQUI",
          "CHIRIQUI",
          "CHIRIQUI",
          "CHIRIQUI",
          "CHIRIQUI",
          "CHIRIQUI",
          "CHIRIQUI",
          "CHIRIQUI",
          "CHIRIQUI",
          "CHIRIQUI"
         ],
         "xaxis": "x",
         "y": [
          695,
          244,
          167,
          289,
          186,
          1243,
          1813,
          169,
          60,
          131,
          281,
          81,
          87
         ],
         "yaxis": "y"
        },
        {
         "hovertemplate": "<b>%{hovertext}</b><br><br>Distrito=ANTON<br>Region=%{x}<br>Casos=%{marker.size}<extra></extra>",
         "hovertext": [
          "RIO HATO",
          "EL VALLE",
          "EL CHIRU",
          "CABALLERO",
          "ANTON",
          "CABUYA (COCLE)",
          "JUAN DIAZ (COCLE)",
          "EL RETIRO",
          "SANTA RITA (COCLE)",
          "SAN JUAN DE DIOS"
         ],
         "legendgroup": "ANTON",
         "marker": {
          "color": "#B6E880",
          "size": [
           1002,
           518,
           204,
           135,
           917,
           110,
           254,
           32,
           112,
           157
          ],
          "sizemode": "area",
          "sizeref": 5.514375,
          "symbol": "circle"
         },
         "mode": "markers",
         "name": "ANTON",
         "orientation": "v",
         "showlegend": true,
         "type": "scatter",
         "x": [
          "COCLE",
          "COCLE",
          "COCLE",
          "COCLE",
          "COCLE",
          "COCLE",
          "COCLE",
          "COCLE",
          "COCLE",
          "COCLE"
         ],
         "xaxis": "x",
         "y": [
          1002,
          518,
          204,
          135,
          917,
          110,
          254,
          32,
          112,
          157
         ],
         "yaxis": "y"
        },
        {
         "hovertemplate": "<b>%{hovertext}</b><br><br>Distrito=OMAR TORRIJOS HERRERA<br>Region=%{x}<br>Casos=%{marker.size}<extra></extra>",
         "hovertext": [
          "NUEVA ESPERANZA",
          "SAN JOSE DEL GENERAL",
          "SAN JUAN DE TURBE"
         ],
         "legendgroup": "OMAR TORRIJOS HERRERA",
         "marker": {
          "color": "#FF97FF",
          "size": [
           202,
           92,
           2
          ],
          "sizemode": "area",
          "sizeref": 5.514375,
          "symbol": "circle"
         },
         "mode": "markers",
         "name": "OMAR TORRIJOS HERRERA",
         "orientation": "v",
         "showlegend": true,
         "type": "scatter",
         "x": [
          "COLON",
          "COLON",
          "COLON"
         ],
         "xaxis": "x",
         "y": [
          202,
          92,
          2
         ],
         "yaxis": "y"
        },
        {
         "hovertemplate": "<b>%{hovertext}</b><br><br>Distrito=BOQUETE<br>Region=%{x}<br>Casos=%{marker.size}<extra></extra>",
         "hovertext": [
          "ALTO BOQUETE",
          "BAJO BOQUETE",
          "LOS NARANJOS",
          "JARAMILLO",
          "CALDERA",
          "PALMIRA (CHIRIQUI)"
         ],
         "legendgroup": "BOQUETE",
         "marker": {
          "color": "#FECB52",
          "size": [
           485,
           280,
           215,
           216,
           87,
           77
          ],
          "sizemode": "area",
          "sizeref": 5.514375,
          "symbol": "circle"
         },
         "mode": "markers",
         "name": "BOQUETE",
         "orientation": "v",
         "showlegend": true,
         "type": "scatter",
         "x": [
          "CHIRIQUI",
          "CHIRIQUI",
          "CHIRIQUI",
          "CHIRIQUI",
          "CHIRIQUI",
          "CHIRIQUI"
         ],
         "xaxis": "x",
         "y": [
          485,
          280,
          215,
          216,
          87,
          77
         ],
         "yaxis": "y"
        },
        {
         "hovertemplate": "<b>%{hovertext}</b><br><br>Distrito=DAVID<br>Region=%{x}<br>Casos=%{marker.size}<extra></extra>",
         "hovertext": [
          "DAVID",
          "SAN PABLO VIEJO",
          "PEDREGAL (DAVID)",
          "LAS LOMAS (CHIRIQUI)",
          "CHIRIQUI",
          "SAN CARLOS (CHIRIQUI)",
          "DAVID SUR",
          "COCHEA",
          "DAVID ESTE",
          "GUACA",
          "BIJAGUAL",
          "SAN PABLO NUEVO"
         ],
         "legendgroup": "DAVID",
         "marker": {
          "color": "#636efa",
          "size": [
           5134,
           852,
           1239,
           2146,
           391,
           264,
           1437,
           135,
           1509,
           54,
           25,
           262
          ],
          "sizemode": "area",
          "sizeref": 5.514375,
          "symbol": "circle"
         },
         "mode": "markers",
         "name": "DAVID",
         "orientation": "v",
         "showlegend": true,
         "type": "scatter",
         "x": [
          "CHIRIQUI",
          "CHIRIQUI",
          "CHIRIQUI",
          "CHIRIQUI",
          "CHIRIQUI",
          "CHIRIQUI",
          "CHIRIQUI",
          "CHIRIQUI",
          "CHIRIQUI",
          "CHIRIQUI",
          "CHIRIQUI",
          "CHIRIQUI"
         ],
         "xaxis": "x",
         "y": [
          5134,
          852,
          1239,
          2146,
          391,
          264,
          1437,
          135,
          1509,
          54,
          25,
          262
         ],
         "yaxis": "y"
        },
        {
         "hovertemplate": "<b>%{hovertext}</b><br><br>Distrito=GUNA YALA<br>Region=%{x}<br>Casos=%{marker.size}<extra></extra>",
         "hovertext": [
          "AILIGANDI",
          "NARGANA",
          "TUBUALA",
          "PUERTO OBALDIA"
         ],
         "legendgroup": "GUNA YALA",
         "marker": {
          "color": "#EF553B",
          "size": [
           588,
           503,
           219,
           55
          ],
          "sizemode": "area",
          "sizeref": 5.514375,
          "symbol": "circle"
         },
         "mode": "markers",
         "name": "GUNA YALA",
         "orientation": "v",
         "showlegend": true,
         "type": "scatter",
         "x": [
          "GUNA YALA",
          "GUNA YALA",
          "GUNA YALA",
          "GUNA YALA"
         ],
         "xaxis": "x",
         "y": [
          588,
          503,
          219,
          55
         ],
         "yaxis": "y"
        },
        {
         "hovertemplate": "<b>%{hovertext}</b><br><br>Distrito=NATA<br>Region=%{x}<br>Casos=%{marker.size}<extra></extra>",
         "hovertext": [
          "NATA",
          "VILLARREAL",
          "TOZA",
          "EL CAÑO",
          "CAPELLANIA",
          "LAS HUACAS (COCLE)",
          "GUZMAN"
         ],
         "legendgroup": "NATA",
         "marker": {
          "color": "#00cc96",
          "size": [
           911,
           58,
           206,
           126,
           257,
           19,
           19
          ],
          "sizemode": "area",
          "sizeref": 5.514375,
          "symbol": "circle"
         },
         "mode": "markers",
         "name": "NATA",
         "orientation": "v",
         "showlegend": true,
         "type": "scatter",
         "x": [
          "COCLE",
          "COCLE",
          "COCLE",
          "COCLE",
          "COCLE",
          "COCLE",
          "COCLE"
         ],
         "xaxis": "x",
         "y": [
          911,
          58,
          206,
          126,
          257,
          19,
          19
         ],
         "yaxis": "y"
        },
        {
         "hovertemplate": "<b>%{hovertext}</b><br><br>Distrito=CAÑAZAS<br>Region=%{x}<br>Casos=%{marker.size}<extra></extra>",
         "hovertext": [
          "EL AROMILLO",
          "CAÑAZAS",
          "SAN JOSE (CAÑAZAS)",
          "SAN MARCELO",
          "CERRO DE PLATA",
          "LOS VALLES",
          "LAS CRUCES (VERAGUAS)",
          "EL PICADOR"
         ],
         "legendgroup": "CAÑAZAS",
         "marker": {
          "color": "#ab63fa",
          "size": [
           18,
           611,
           50,
           36,
           33,
           98,
           15,
           21
          ],
          "sizemode": "area",
          "sizeref": 5.514375,
          "symbol": "circle"
         },
         "mode": "markers",
         "name": "CAÑAZAS",
         "orientation": "v",
         "showlegend": true,
         "type": "scatter",
         "x": [
          "VERAGUAS",
          "VERAGUAS",
          "VERAGUAS",
          "VERAGUAS",
          "VERAGUAS",
          "VERAGUAS",
          "VERAGUAS",
          "VERAGUAS"
         ],
         "xaxis": "x",
         "y": [
          18,
          611,
          50,
          36,
          33,
          98,
          15,
          21
         ],
         "yaxis": "y"
        },
        {
         "hovertemplate": "<b>%{hovertext}</b><br><br>Distrito=SAN FELIX<br>Region=%{x}<br>Casos=%{marker.size}<extra></extra>",
         "hovertext": [
          "SAN FELIX",
          "LAS LAJAS (CHIRIQUI)",
          "SANTA CRUZ (SAN FELIX)",
          "LAJAS ADENTRO",
          "JUAY"
         ],
         "legendgroup": "SAN FELIX",
         "marker": {
          "color": "#FFA15A",
          "size": [
           251,
           105,
           35,
           16,
           22
          ],
          "sizemode": "area",
          "sizeref": 5.514375,
          "symbol": "circle"
         },
         "mode": "markers",
         "name": "SAN FELIX",
         "orientation": "v",
         "showlegend": true,
         "type": "scatter",
         "x": [
          "CHIRIQUI",
          "CHIRIQUI",
          "CHIRIQUI",
          "CHIRIQUI",
          "CHIRIQUI"
         ],
         "xaxis": "x",
         "y": [
          251,
          105,
          35,
          16,
          22
         ],
         "yaxis": "y"
        },
        {
         "hovertemplate": "<b>%{hovertext}</b><br><br>Distrito=RENACIMIENTO<br>Region=%{x}<br>Casos=%{marker.size}<extra></extra>",
         "hovertext": [
          "PLAZA CAISAN",
          "CAÑAS GORDAS",
          "RIO SERENO",
          "MONTE LIRIO",
          "DOMINICAL",
          "SANTA CRUZ (RENACIMIENTO)",
          "SANTA CLARA (CHIRIQUI)",
          "BREÑON"
         ],
         "legendgroup": "RENACIMIENTO",
         "marker": {
          "color": "#19d3f3",
          "size": [
           140,
           138,
           256,
           50,
           49,
           83,
           151,
           22
          ],
          "sizemode": "area",
          "sizeref": 5.514375,
          "symbol": "circle"
         },
         "mode": "markers",
         "name": "RENACIMIENTO",
         "orientation": "v",
         "showlegend": true,
         "type": "scatter",
         "x": [
          "CHIRIQUI",
          "CHIRIQUI",
          "CHIRIQUI",
          "CHIRIQUI",
          "CHIRIQUI",
          "CHIRIQUI",
          "CHIRIQUI",
          "CHIRIQUI"
         ],
         "xaxis": "x",
         "y": [
          140,
          138,
          256,
          50,
          49,
          83,
          151,
          22
         ],
         "yaxis": "y"
        },
        {
         "hovertemplate": "<b>%{hovertext}</b><br><br>Distrito=LA MESA<br>Region=%{x}<br>Casos=%{marker.size}<extra></extra>",
         "hovertext": [
          "BISVALLES",
          "EL HIGO (VERAGUAS)",
          "LA MESA (VERAGUAS)",
          "LOS MILAGROS",
          "BORO",
          "SAN BARTOLO",
          "LLANO GRANDE (VERAGUAS)"
         ],
         "legendgroup": "LA MESA",
         "marker": {
          "color": "#FF6692",
          "size": [
           92,
           116,
           353,
           69,
           93,
           69,
           33
          ],
          "sizemode": "area",
          "sizeref": 5.514375,
          "symbol": "circle"
         },
         "mode": "markers",
         "name": "LA MESA",
         "orientation": "v",
         "showlegend": true,
         "type": "scatter",
         "x": [
          "VERAGUAS",
          "VERAGUAS",
          "VERAGUAS",
          "VERAGUAS",
          "VERAGUAS",
          "VERAGUAS",
          "VERAGUAS"
         ],
         "xaxis": "x",
         "y": [
          92,
          116,
          353,
          69,
          93,
          69,
          33
         ],
         "yaxis": "y"
        },
        {
         "hovertemplate": "<b>%{hovertext}</b><br><br>Distrito=LOS POZOS<br>Region=%{x}<br>Casos=%{marker.size}<extra></extra>",
         "hovertext": [
          "LOS POZOS",
          "EL CEDRO",
          "EL CALABACITO",
          "LOS CERRITOS",
          "CAPURI",
          "LA ARENA (LOS POZOS)",
          "LOS CERROS DE PAJA",
          "LA PITALOZA",
          "LAS LLANAS"
         ],
         "legendgroup": "LOS POZOS",
         "marker": {
          "color": "#B6E880",
          "size": [
           217,
           15,
           15,
           21,
           17,
           12,
           30,
           10,
           2
          ],
          "sizemode": "area",
          "sizeref": 5.514375,
          "symbol": "circle"
         },
         "mode": "markers",
         "name": "LOS POZOS",
         "orientation": "v",
         "showlegend": true,
         "type": "scatter",
         "x": [
          "HERRERA",
          "HERRERA",
          "HERRERA",
          "HERRERA",
          "HERRERA",
          "HERRERA",
          "HERRERA",
          "HERRERA",
          "HERRERA"
         ],
         "xaxis": "x",
         "y": [
          217,
          15,
          15,
          21,
          17,
          12,
          30,
          10,
          2
         ],
         "yaxis": "y"
        },
        {
         "hovertemplate": "<b>%{hovertext}</b><br><br>Distrito=REMEDIOS<br>Region=%{x}<br>Casos=%{marker.size}<extra></extra>",
         "hovertext": [
          "REMEDIOS",
          "EL PORVENIR",
          "EL NANCITO",
          "SANTA LUCIA",
          "EL PUERTO"
         ],
         "legendgroup": "REMEDIOS",
         "marker": {
          "color": "#FF97FF",
          "size": [
           76,
           63,
           9,
           22,
           7
          ],
          "sizemode": "area",
          "sizeref": 5.514375,
          "symbol": "circle"
         },
         "mode": "markers",
         "name": "REMEDIOS",
         "orientation": "v",
         "showlegend": true,
         "type": "scatter",
         "x": [
          "CHIRIQUI",
          "CHIRIQUI",
          "CHIRIQUI",
          "CHIRIQUI",
          "CHIRIQUI"
         ],
         "xaxis": "x",
         "y": [
          76,
          63,
          9,
          22,
          7
         ],
         "yaxis": "y"
        },
        {
         "hovertemplate": "<b>%{hovertext}</b><br><br>Distrito=PORTOBELO<br>Region=%{x}<br>Casos=%{marker.size}<extra></extra>",
         "hovertext": [
          "MARIA CHIQUITA",
          "PORTOBELO",
          "ISLA GRANDE",
          "PUERTO LINDO O GARROTE",
          "CACIQUE"
         ],
         "legendgroup": "PORTOBELO",
         "marker": {
          "color": "#FECB52",
          "size": [
           207,
           436,
           10,
           10,
           17
          ],
          "sizemode": "area",
          "sizeref": 5.514375,
          "symbol": "circle"
         },
         "mode": "markers",
         "name": "PORTOBELO",
         "orientation": "v",
         "showlegend": true,
         "type": "scatter",
         "x": [
          "COLON",
          "COLON",
          "COLON",
          "COLON",
          "COLON"
         ],
         "xaxis": "x",
         "y": [
          207,
          436,
          10,
          10,
          17
         ],
         "yaxis": "y"
        },
        {
         "hovertemplate": "<b>%{hovertext}</b><br><br>Distrito=LOS SANTOS<br>Region=%{x}<br>Casos=%{marker.size}<extra></extra>",
         "hovertext": [
          "SABANA GRANDE (LOS SANTOS)",
          "LA VILLA DE LOS SANTOS",
          "EL EJIDO",
          "LA COLORADA (LOS SANTOS)",
          "LOS OLIVOS",
          "LLANO LARGO",
          "LA ESPIGADILLA",
          "VILLA LOURDES",
          "LOS ANGELES (LOS SANTOS)",
          "EL GUASIMO (LOS SANTOS)",
          "LAS CRUCES (LOS SANTOS)",
          "AGUA BUENA",
          "SANTA ANA (LOS SANTOS)",
          "TRES QUEBRADAS",
          "LAS GUABAS"
         ],
         "legendgroup": "LOS SANTOS",
         "marker": {
          "color": "#636efa",
          "size": [
           64,
           474,
           70,
           55,
           50,
           70,
           85,
           19,
           48,
           10,
           17,
           35,
           53,
           15,
           16
          ],
          "sizemode": "area",
          "sizeref": 5.514375,
          "symbol": "circle"
         },
         "mode": "markers",
         "name": "LOS SANTOS",
         "orientation": "v",
         "showlegend": true,
         "type": "scatter",
         "x": [
          "LOS SANTOS",
          "LOS SANTOS",
          "LOS SANTOS",
          "LOS SANTOS",
          "LOS SANTOS",
          "LOS SANTOS",
          "LOS SANTOS",
          "LOS SANTOS",
          "LOS SANTOS",
          "LOS SANTOS",
          "LOS SANTOS",
          "LOS SANTOS",
          "LOS SANTOS",
          "LOS SANTOS",
          "LOS SANTOS"
         ],
         "xaxis": "x",
         "y": [
          64,
          474,
          70,
          55,
          50,
          70,
          85,
          19,
          48,
          10,
          17,
          35,
          53,
          15,
          16
         ],
         "yaxis": "y"
        },
        {
         "hovertemplate": "<b>%{hovertext}</b><br><br>Distrito=TIERRAS ALTAS<br>Region=%{x}<br>Casos=%{marker.size}<extra></extra>",
         "hovertext": [
          "NUEVA CALIFORNIA",
          "VOLCAN",
          "CERRO PUNTA",
          "PASO ANCHO",
          "CUESTA DE PIEDRA"
         ],
         "legendgroup": "TIERRAS ALTAS",
         "marker": {
          "color": "#EF553B",
          "size": [
           204,
           794,
           250,
           166,
           72
          ],
          "sizemode": "area",
          "sizeref": 5.514375,
          "symbol": "circle"
         },
         "mode": "markers",
         "name": "TIERRAS ALTAS",
         "orientation": "v",
         "showlegend": true,
         "type": "scatter",
         "x": [
          "CHIRIQUI",
          "CHIRIQUI",
          "CHIRIQUI",
          "CHIRIQUI",
          "CHIRIQUI"
         ],
         "xaxis": "x",
         "y": [
          204,
          794,
          250,
          166,
          72
         ],
         "yaxis": "y"
        },
        {
         "hovertemplate": "<b>%{hovertext}</b><br><br>Distrito=CHAME<br>Region=%{x}<br>Casos=%{marker.size}<extra></extra>",
         "hovertext": [
          "NUEVA GORGONA",
          "PUNTA CHAME",
          "SAJALICES",
          "BEJUCO",
          "CHAME",
          "CABUYA (PANAMA OESTE)",
          "LAS LAJAS (PANAMA OESTE)",
          "SORA",
          "BUENOS AIRES (PANAMA OESTE)",
          "CHICA",
          "EL LIBANO"
         ],
         "legendgroup": "CHAME",
         "marker": {
          "color": "#00cc96",
          "size": [
           163,
           24,
           236,
           452,
           406,
           88,
           316,
           72,
           114,
           33,
           8
          ],
          "sizemode": "area",
          "sizeref": 5.514375,
          "symbol": "circle"
         },
         "mode": "markers",
         "name": "CHAME",
         "orientation": "v",
         "showlegend": true,
         "type": "scatter",
         "x": [
          "PANAMA OESTE",
          "PANAMA OESTE",
          "PANAMA OESTE",
          "PANAMA OESTE",
          "PANAMA OESTE",
          "PANAMA OESTE",
          "PANAMA OESTE",
          "PANAMA OESTE",
          "PANAMA OESTE",
          "PANAMA OESTE",
          "PANAMA OESTE"
         ],
         "xaxis": "x",
         "y": [
          163,
          24,
          236,
          452,
          406,
          88,
          316,
          72,
          114,
          33,
          8
         ],
         "yaxis": "y"
        },
        {
         "hovertemplate": "<b>%{hovertext}</b><br><br>Distrito=GUALACA<br>Region=%{x}<br>Casos=%{marker.size}<extra></extra>",
         "hovertext": [
          "GUALACA",
          "RINCON (CHIRIQUI)",
          "HORNITO",
          "LOS ANGELES (CHIRIQUI)",
          "PAJA DE SOMBRERO"
         ],
         "legendgroup": "GUALACA",
         "marker": {
          "color": "#ab63fa",
          "size": [
           607,
           125,
           25,
           10,
           74
          ],
          "sizemode": "area",
          "sizeref": 5.514375,
          "symbol": "circle"
         },
         "mode": "markers",
         "name": "GUALACA",
         "orientation": "v",
         "showlegend": true,
         "type": "scatter",
         "x": [
          "CHIRIQUI",
          "CHIRIQUI",
          "CHIRIQUI",
          "CHIRIQUI",
          "CHIRIQUI"
         ],
         "xaxis": "x",
         "y": [
          607,
          125,
          25,
          10,
          74
         ],
         "yaxis": "y"
        },
        {
         "hovertemplate": "<b>%{hovertext}</b><br><br>Distrito=DOLEGA<br>Region=%{x}<br>Casos=%{marker.size}<extra></extra>",
         "hovertext": [
          "LOS ALGARROBOS (CHIRIQUI)",
          "DOLEGA",
          "LOS ANASTACIOS",
          "POTRERILLOS",
          "DOS RIOS",
          "TINAJAS",
          "POTRERILLOS ABAJO",
          "ROVIRA"
         ],
         "legendgroup": "DOLEGA",
         "marker": {
          "color": "#FFA15A",
          "size": [
           1291,
           567,
           179,
           112,
           94,
           130,
           87,
           55
          ],
          "sizemode": "area",
          "sizeref": 5.514375,
          "symbol": "circle"
         },
         "mode": "markers",
         "name": "DOLEGA",
         "orientation": "v",
         "showlegend": true,
         "type": "scatter",
         "x": [
          "CHIRIQUI",
          "CHIRIQUI",
          "CHIRIQUI",
          "CHIRIQUI",
          "CHIRIQUI",
          "CHIRIQUI",
          "CHIRIQUI",
          "CHIRIQUI"
         ],
         "xaxis": "x",
         "y": [
          1291,
          567,
          179,
          112,
          94,
          130,
          87,
          55
         ],
         "yaxis": "y"
        },
        {
         "hovertemplate": "<b>%{hovertext}</b><br><br>Distrito=BARU<br>Region=%{x}<br>Casos=%{marker.size}<extra></extra>",
         "hovertext": [
          "PUERTO ARMUELLES",
          "RODOLFO AGUILAR DELGADO",
          "PROGRESO",
          "BACO",
          "LIMONES"
         ],
         "legendgroup": "BARU",
         "marker": {
          "color": "#19d3f3",
          "size": [
           1346,
           631,
           922,
           530,
           97
          ],
          "sizemode": "area",
          "sizeref": 5.514375,
          "symbol": "circle"
         },
         "mode": "markers",
         "name": "BARU",
         "orientation": "v",
         "showlegend": true,
         "type": "scatter",
         "x": [
          "CHIRIQUI",
          "CHIRIQUI",
          "CHIRIQUI",
          "CHIRIQUI",
          "CHIRIQUI"
         ],
         "xaxis": "x",
         "y": [
          1346,
          631,
          922,
          530,
          97
         ],
         "yaxis": "y"
        },
        {
         "hovertemplate": "<b>%{hovertext}</b><br><br>Distrito=RIO DE JESUS<br>Region=%{x}<br>Casos=%{marker.size}<extra></extra>",
         "hovertext": [
          "RIO DE JESUS",
          "UTIRA",
          "LOS CASTILLOS (VERAGUAS)",
          "LAS HUACAS (VERAGUAS)",
          "CATORCE DE NOVIEMBRE"
         ],
         "legendgroup": "RIO DE JESUS",
         "marker": {
          "color": "#FF6692",
          "size": [
           198,
           5,
           30,
           24,
           26
          ],
          "sizemode": "area",
          "sizeref": 5.514375,
          "symbol": "circle"
         },
         "mode": "markers",
         "name": "RIO DE JESUS",
         "orientation": "v",
         "showlegend": true,
         "type": "scatter",
         "x": [
          "VERAGUAS",
          "VERAGUAS",
          "VERAGUAS",
          "VERAGUAS",
          "VERAGUAS"
         ],
         "xaxis": "x",
         "y": [
          198,
          5,
          30,
          24,
          26
         ],
         "yaxis": "y"
        },
        {
         "hovertemplate": "<b>%{hovertext}</b><br><br>Distrito=LA PINTADA<br>Region=%{x}<br>Casos=%{marker.size}<extra></extra>",
         "hovertext": [
          "LA PINTADA",
          "EL HARINO",
          "LLANO NORTE",
          "PIEDRAS GORDAS",
          "LAS LOMAS (COCLE)",
          "EL POTRERO (COCLE)",
          "LLANO GRANDE (COCLE)"
         ],
         "legendgroup": "LA PINTADA",
         "marker": {
          "color": "#B6E880",
          "size": [
           244,
           247,
           240,
           255,
           119,
           119,
           54
          ],
          "sizemode": "area",
          "sizeref": 5.514375,
          "symbol": "circle"
         },
         "mode": "markers",
         "name": "LA PINTADA",
         "orientation": "v",
         "showlegend": true,
         "type": "scatter",
         "x": [
          "COCLE",
          "COCLE",
          "COCLE",
          "COCLE",
          "COCLE",
          "COCLE",
          "COCLE"
         ],
         "xaxis": "x",
         "y": [
          244,
          247,
          240,
          255,
          119,
          119,
          54
         ],
         "yaxis": "y"
        },
        {
         "hovertemplate": "<b>%{hovertext}</b><br><br>Distrito=LAS MINAS<br>Region=%{x}<br>Casos=%{marker.size}<extra></extra>",
         "hovertext": [
          "CHEPO (HERRERA)",
          "LEONES (HERRERA)",
          "LAS MINAS",
          "QUEBRADA EL CIPRIAN",
          "QUEBRADA DEL ROSARIO",
          "CHUMICAL",
          "EL TORO"
         ],
         "legendgroup": "LAS MINAS",
         "marker": {
          "color": "#FF97FF",
          "size": [
           73,
           16,
           123,
           3,
           22,
           27,
           5
          ],
          "sizemode": "area",
          "sizeref": 5.514375,
          "symbol": "circle"
         },
         "mode": "markers",
         "name": "LAS MINAS",
         "orientation": "v",
         "showlegend": true,
         "type": "scatter",
         "x": [
          "HERRERA",
          "HERRERA",
          "HERRERA",
          "HERRERA",
          "HERRERA",
          "HERRERA",
          "HERRERA"
         ],
         "xaxis": "x",
         "y": [
          73,
          16,
          123,
          3,
          22,
          27,
          5
         ],
         "yaxis": "y"
        },
        {
         "hovertemplate": "<b>%{hovertext}</b><br><br>Distrito=PINOGANA<br>Region=%{x}<br>Casos=%{marker.size}<extra></extra>",
         "hovertext": [
          "COMARCA WARGANDI",
          "METETI",
          "YAVIZA",
          "BOCA DE CUPE",
          "EL REAL DE SANTA MARIA",
          "PINOGANA",
          "YAPE",
          "PAYA",
          "PUCURO"
         ],
         "legendgroup": "PINOGANA",
         "marker": {
          "color": "#FECB52",
          "size": [
           30,
           1894,
           653,
           81,
           64,
           21,
           3,
           1,
           1
          ],
          "sizemode": "area",
          "sizeref": 5.514375,
          "symbol": "circle"
         },
         "mode": "markers",
         "name": "PINOGANA",
         "orientation": "v",
         "showlegend": true,
         "type": "scatter",
         "x": [
          "DARIEN",
          "DARIEN",
          "DARIEN",
          "DARIEN",
          "DARIEN",
          "DARIEN",
          "DARIEN",
          "DARIEN",
          "DARIEN"
         ],
         "xaxis": "x",
         "y": [
          30,
          1894,
          653,
          81,
          64,
          21,
          3,
          1,
          1
         ],
         "yaxis": "y"
        },
        {
         "hovertemplate": "<b>%{hovertext}</b><br><br>Distrito=MUNA<br>Region=%{x}<br>Casos=%{marker.size}<extra></extra>",
         "hovertext": [
          "CERRO CAÑA",
          "ROKA",
          "ALTO CABALLERO",
          "CHICHICA",
          "CERRO PUERCO",
          "UMANI",
          "DIKERI",
          "PEÑA BLANCA (NGOBE BUGLE)",
          "BAKAMA",
          "DIKO",
          "KIKARI",
          "NIBRA",
          "SITIO PRADO",
          "MARACA",
          "MREENI",
          "KRUA"
         ],
         "legendgroup": "MUNA",
         "marker": {
          "color": "#636efa",
          "size": [
           12,
           33,
           143,
           150,
           19,
           18,
           25,
           42,
           32,
           8,
           50,
           7,
           6,
           16,
           5,
           1
          ],
          "sizemode": "area",
          "sizeref": 5.514375,
          "symbol": "circle"
         },
         "mode": "markers",
         "name": "MUNA",
         "orientation": "v",
         "showlegend": true,
         "type": "scatter",
         "x": [
          "NGOBE BUGLE",
          "NGOBE BUGLE",
          "NGOBE BUGLE",
          "NGOBE BUGLE",
          "NGOBE BUGLE",
          "NGOBE BUGLE",
          "NGOBE BUGLE",
          "NGOBE BUGLE",
          "NGOBE BUGLE",
          "NGOBE BUGLE",
          "NGOBE BUGLE",
          "NGOBE BUGLE",
          "NGOBE BUGLE",
          "NGOBE BUGLE",
          "NGOBE BUGLE",
          "NGOBE BUGLE"
         ],
         "xaxis": "x",
         "y": [
          12,
          33,
          143,
          150,
          19,
          18,
          25,
          42,
          32,
          8,
          50,
          7,
          6,
          16,
          5,
          1
         ],
         "yaxis": "y"
        },
        {
         "hovertemplate": "<b>%{hovertext}</b><br><br>Distrito=SANTA FE<br>Region=%{x}<br>Casos=%{marker.size}<extra></extra>",
         "hovertext": [
          "SANTA FE (DARIEN)",
          "CUCUNATI",
          "EL CUAY",
          "ZAPALLAL",
          "AGUA FRIA",
          "RIO IGLESIAS",
          "SANTA FE (VERAGUAS)",
          "RIO CONGO",
          "RIO LUIS",
          "GATUCITO",
          "RUBEN CANTU",
          "EL ALTO",
          "CALOVEBORA (VERAGUAS)",
          "EL PANTANO",
          "RIO CONGO ARRIBA"
         ],
         "legendgroup": "SANTA FE",
         "marker": {
          "color": "#EF553B",
          "size": [
           1028,
           88,
           39,
           90,
           158,
           24,
           274,
           200,
           66,
           20,
           21,
           86,
           10,
           24,
           88
          ],
          "sizemode": "area",
          "sizeref": 5.514375,
          "symbol": "circle"
         },
         "mode": "markers",
         "name": "SANTA FE",
         "orientation": "v",
         "showlegend": true,
         "type": "scatter",
         "x": [
          "DARIEN",
          "DARIEN",
          "VERAGUAS",
          "DARIEN",
          "DARIEN",
          "DARIEN",
          "VERAGUAS",
          "DARIEN",
          "VERAGUAS",
          "VERAGUAS",
          "VERAGUAS",
          "VERAGUAS",
          "VERAGUAS",
          "VERAGUAS",
          "DARIEN"
         ],
         "xaxis": "x",
         "y": [
          1028,
          88,
          39,
          90,
          158,
          24,
          274,
          200,
          66,
          20,
          21,
          86,
          10,
          24,
          88
         ],
         "yaxis": "y"
        },
        {
         "hovertemplate": "<b>%{hovertext}</b><br><br>Distrito=CHITRE<br>Region=%{x}<br>Casos=%{marker.size}<extra></extra>",
         "hovertext": [
          "LA ARENA (CHITRE)",
          "MONAGRILLO",
          "SAN JUAN BAUTISTA",
          "CHITRE",
          "LLANO BONITO (HERRERA)"
         ],
         "legendgroup": "CHITRE",
         "marker": {
          "color": "#00cc96",
          "size": [
           549,
           1006,
           760,
           999,
           646
          ],
          "sizemode": "area",
          "sizeref": 5.514375,
          "symbol": "circle"
         },
         "mode": "markers",
         "name": "CHITRE",
         "orientation": "v",
         "showlegend": true,
         "type": "scatter",
         "x": [
          "HERRERA",
          "HERRERA",
          "HERRERA",
          "HERRERA",
          "HERRERA"
         ],
         "xaxis": "x",
         "y": [
          549,
          1006,
          760,
          999,
          646
         ],
         "yaxis": "y"
        },
        {
         "hovertemplate": "<b>%{hovertext}</b><br><br>Distrito=PESE<br>Region=%{x}<br>Casos=%{marker.size}<extra></extra>",
         "hovertext": [
          "PESE",
          "EL PAJARO",
          "EL BARRERO",
          "RINCON HONDO",
          "SABANA GRANDE (HERRERA)",
          "EL PEDREGOSO (HERRERA)",
          "LAS CABRAS (HERRERA)",
          "EL CIRUELO"
         ],
         "legendgroup": "PESE",
         "marker": {
          "color": "#ab63fa",
          "size": [
           291,
           11,
           83,
           67,
           46,
           49,
           131,
           33
          ],
          "sizemode": "area",
          "sizeref": 5.514375,
          "symbol": "circle"
         },
         "mode": "markers",
         "name": "PESE",
         "orientation": "v",
         "showlegend": true,
         "type": "scatter",
         "x": [
          "HERRERA",
          "HERRERA",
          "HERRERA",
          "HERRERA",
          "HERRERA",
          "HERRERA",
          "HERRERA",
          "HERRERA"
         ],
         "xaxis": "x",
         "y": [
          291,
          11,
          83,
          67,
          46,
          49,
          131,
          33
         ],
         "yaxis": "y"
        },
        {
         "hovertemplate": "<b>%{hovertext}</b><br><br>Distrito=SANTA MARIA<br>Region=%{x}<br>Casos=%{marker.size}<extra></extra>",
         "hovertext": [
          "EL LIMON",
          "SANTA MARIA",
          "LOS CANELOS",
          "EL RINCON (HERRERA)",
          "CHUPAMPA"
         ],
         "legendgroup": "SANTA MARIA",
         "marker": {
          "color": "#FFA15A",
          "size": [
           78,
           277,
           75,
           55,
           68
          ],
          "sizemode": "area",
          "sizeref": 5.514375,
          "symbol": "circle"
         },
         "mode": "markers",
         "name": "SANTA MARIA",
         "orientation": "v",
         "showlegend": true,
         "type": "scatter",
         "x": [
          "HERRERA",
          "HERRERA",
          "HERRERA",
          "HERRERA",
          "HERRERA"
         ],
         "xaxis": "x",
         "y": [
          78,
          277,
          75,
          55,
          68
         ],
         "yaxis": "y"
        },
        {
         "hovertemplate": "<b>%{hovertext}</b><br><br>Distrito=CHANGUINOLA<br>Region=%{x}<br>Casos=%{marker.size}<extra></extra>",
         "hovertext": [
          "GUABITO",
          "FINCA 30",
          "EL EMPALME",
          "CHANGUINOLA",
          "LAS TABLAS (BOCAS DEL TORO)",
          "BARRIADA 4 DE ABRIL",
          "FINCA 60",
          "LA GLORIA",
          "FINCA 6",
          "EL SILENCIO",
          "TERIBE",
          "LAS DELICIAS",
          "COCHIGRO"
         ],
         "legendgroup": "CHANGUINOLA",
         "marker": {
          "color": "#19d3f3",
          "size": [
           288,
           201,
           652,
           1403,
           189,
           72,
           173,
           14,
           270,
           160,
           43,
           5,
           5
          ],
          "sizemode": "area",
          "sizeref": 5.514375,
          "symbol": "circle"
         },
         "mode": "markers",
         "name": "CHANGUINOLA",
         "orientation": "v",
         "showlegend": true,
         "type": "scatter",
         "x": [
          "BOCAS DEL TORO",
          "BOCAS DEL TORO",
          "BOCAS DEL TORO",
          "BOCAS DEL TORO",
          "BOCAS DEL TORO",
          "BOCAS DEL TORO",
          "BOCAS DEL TORO",
          "BOCAS DEL TORO",
          "BOCAS DEL TORO",
          "BOCAS DEL TORO",
          "BOCAS DEL TORO",
          "BOCAS DEL TORO",
          "BOCAS DEL TORO"
         ],
         "xaxis": "x",
         "y": [
          288,
          201,
          652,
          1403,
          189,
          72,
          173,
          14,
          270,
          160,
          43,
          5,
          5
         ],
         "yaxis": "y"
        },
        {
         "hovertemplate": "<b>%{hovertext}</b><br><br>Distrito=CEMACO<br>Region=%{x}<br>Casos=%{marker.size}<extra></extra>",
         "hovertext": [
          "LAJAS BLANCAS",
          "MANUEL ORTEGA",
          "CIRILO GUAINORA"
         ],
         "legendgroup": "CEMACO",
         "marker": {
          "color": "#FF6692",
          "size": [
           230,
           22,
           80
          ],
          "sizemode": "area",
          "sizeref": 5.514375,
          "symbol": "circle"
         },
         "mode": "markers",
         "name": "CEMACO",
         "orientation": "v",
         "showlegend": true,
         "type": "scatter",
         "x": [
          "DARIEN",
          "DARIEN",
          "DARIEN"
         ],
         "xaxis": "x",
         "y": [
          230,
          22,
          80
         ],
         "yaxis": "y"
        },
        {
         "hovertemplate": "<b>%{hovertext}</b><br><br>Distrito=SAMBU<br>Region=%{x}<br>Casos=%{marker.size}<extra></extra>",
         "hovertext": [
          "RIO SABALO",
          "JINGURUDO"
         ],
         "legendgroup": "SAMBU",
         "marker": {
          "color": "#B6E880",
          "size": [
           94,
           14
          ],
          "sizemode": "area",
          "sizeref": 5.514375,
          "symbol": "circle"
         },
         "mode": "markers",
         "name": "SAMBU",
         "orientation": "v",
         "showlegend": true,
         "type": "scatter",
         "x": [
          "DARIEN",
          "DARIEN"
         ],
         "xaxis": "x",
         "y": [
          94,
          14
         ],
         "yaxis": "y"
        },
        {
         "hovertemplate": "<b>%{hovertext}</b><br><br>Distrito=SAN LORENZO<br>Region=%{x}<br>Casos=%{marker.size}<extra></extra>",
         "hovertext": [
          "SAN JUAN (CHIRIQUI)",
          "BOCA DEL MONTE",
          "BOCA CHICA",
          "SAN LORENZO",
          "HORCONCITOS",
          "HORCONCITOs"
         ],
         "legendgroup": "SAN LORENZO",
         "marker": {
          "color": "#FF97FF",
          "size": [
           130,
           96,
           12,
           165,
           74,
           1
          ],
          "sizemode": "area",
          "sizeref": 5.514375,
          "symbol": "circle"
         },
         "mode": "markers",
         "name": "SAN LORENZO",
         "orientation": "v",
         "showlegend": true,
         "type": "scatter",
         "x": [
          "CHIRIQUI",
          "CHIRIQUI",
          "CHIRIQUI",
          "CHIRIQUI",
          "CHIRIQUI",
          "CHIRIQUI"
         ],
         "xaxis": "x",
         "y": [
          130,
          96,
          12,
          165,
          74,
          1
         ],
         "yaxis": "y"
        },
        {
         "hovertemplate": "<b>%{hovertext}</b><br><br>Distrito=CHEPIGANA<br>Region=%{x}<br>Casos=%{marker.size}<extra></extra>",
         "hovertext": [
          "PUERTO PIÑA",
          "LA PALMA (DARIEN)",
          "TUCUTI",
          "JAQUE",
          "CHEPIGANA",
          "SAMBU",
          "SETEGANTI",
          "GARACHINE",
          "TAIMATI",
          "CAMOGANTI"
         ],
         "legendgroup": "CHEPIGANA",
         "marker": {
          "color": "#FECB52",
          "size": [
           99,
           340,
           13,
           48,
           13,
           119,
           5,
           180,
           23,
           1
          ],
          "sizemode": "area",
          "sizeref": 5.514375,
          "symbol": "circle"
         },
         "mode": "markers",
         "name": "CHEPIGANA",
         "orientation": "v",
         "showlegend": true,
         "type": "scatter",
         "x": [
          "DARIEN",
          "DARIEN",
          "DARIEN",
          "DARIEN",
          "DARIEN",
          "DARIEN",
          "DARIEN",
          "DARIEN",
          "DARIEN",
          "DARIEN"
         ],
         "xaxis": "x",
         "y": [
          99,
          340,
          13,
          48,
          13,
          119,
          5,
          180,
          23,
          1
         ],
         "yaxis": "y"
        },
        {
         "hovertemplate": "<b>%{hovertext}</b><br><br>Distrito=SAN CARLOS<br>Region=%{x}<br>Casos=%{marker.size}<extra></extra>",
         "hovertext": [
          "EL HIGO (PANAMA OESTE)",
          "EL ESPINO",
          "LA LAGUNA (PANAMA OESTE)",
          "SAN CARLOS (PANAMA OESTE)",
          "LA ERMITA",
          "SAN JOSE (PANAMA OESTE)",
          "LOS LLANITOS",
          "GUAYABITO (PANAMA OESTE)",
          "LAS UVAS"
         ],
         "legendgroup": "SAN CARLOS",
         "marker": {
          "color": "#636efa",
          "size": [
           169,
           133,
           91,
           490,
           66,
           196,
           290,
           27,
           89
          ],
          "sizemode": "area",
          "sizeref": 5.514375,
          "symbol": "circle"
         },
         "mode": "markers",
         "name": "SAN CARLOS",
         "orientation": "v",
         "showlegend": true,
         "type": "scatter",
         "x": [
          "PANAMA OESTE",
          "PANAMA OESTE",
          "PANAMA OESTE",
          "PANAMA OESTE",
          "PANAMA OESTE",
          "PANAMA OESTE",
          "PANAMA OESTE",
          "PANAMA OESTE",
          "PANAMA OESTE"
         ],
         "xaxis": "x",
         "y": [
          169,
          133,
          91,
          490,
          66,
          196,
          290,
          27,
          89
         ],
         "yaxis": "y"
        },
        {
         "hovertemplate": "<b>%{hovertext}</b><br><br>Distrito=CALOBRE<br>Region=%{x}<br>Casos=%{marker.size}<extra></extra>",
         "hovertext": [
          "LA LAGUNA (VERAGUAS)",
          "CALOBRE",
          "LA TETILLA",
          "LA YEGUADA",
          "BARNIZAL",
          "CHITRA",
          "LAS GUIAS",
          "EL COCLA",
          "EL POTRERO (VERAGUAS)",
          "LA RAYA DE CALOBRE",
          "MONJARAS"
         ],
         "legendgroup": "CALOBRE",
         "marker": {
          "color": "#EF553B",
          "size": [
           15,
           221,
           37,
           21,
           11,
           6,
           53,
           36,
           6,
           19,
           4
          ],
          "sizemode": "area",
          "sizeref": 5.514375,
          "symbol": "circle"
         },
         "mode": "markers",
         "name": "CALOBRE",
         "orientation": "v",
         "showlegend": true,
         "type": "scatter",
         "x": [
          "VERAGUAS",
          "VERAGUAS",
          "VERAGUAS",
          "VERAGUAS",
          "VERAGUAS",
          "VERAGUAS",
          "VERAGUAS",
          "VERAGUAS",
          "VERAGUAS",
          "VERAGUAS",
          "VERAGUAS"
         ],
         "xaxis": "x",
         "y": [
          15,
          221,
          37,
          21,
          11,
          6,
          53,
          36,
          6,
          19,
          4
         ],
         "yaxis": "y"
        },
        {
         "hovertemplate": "<b>%{hovertext}</b><br><br>Distrito=DONOSO<br>Region=%{x}<br>Casos=%{marker.size}<extra></extra>",
         "hovertext": [
          "RIO INDIO (COLON)",
          "EL GUASIMO (COLON)",
          "MIGUEL DE LA BORDA",
          "COCLE DEL NORTE",
          "GOBEA"
         ],
         "legendgroup": "DONOSO",
         "marker": {
          "color": "#00cc96",
          "size": [
           32,
           3,
           57,
           35,
           4
          ],
          "sizemode": "area",
          "sizeref": 5.514375,
          "symbol": "circle"
         },
         "mode": "markers",
         "name": "DONOSO",
         "orientation": "v",
         "showlegend": true,
         "type": "scatter",
         "x": [
          "COLON",
          "COLON",
          "COLON",
          "COLON",
          "COLON"
         ],
         "xaxis": "x",
         "y": [
          32,
          3,
          57,
          35,
          4
         ],
         "yaxis": "y"
        },
        {
         "hovertemplate": "<b>%{hovertext}</b><br><br>Distrito=BESIKO<br>Region=%{x}<br>Casos=%{marker.size}<extra></extra>",
         "hovertext": [
          "SOLOY",
          "NIBA",
          "CERRO BANCO",
          "NAMNONI",
          "CAMARON ARRIBA",
          "EMPLANADA DE CHORCHA",
          "BOCA DE BALSA",
          "CERRO DE PATENA"
         ],
         "legendgroup": "BESIKO",
         "marker": {
          "color": "#ab63fa",
          "size": [
           201,
           7,
           43,
           24,
           14,
           19,
           11,
           7
          ],
          "sizemode": "area",
          "sizeref": 5.514375,
          "symbol": "circle"
         },
         "mode": "markers",
         "name": "BESIKO",
         "orientation": "v",
         "showlegend": true,
         "type": "scatter",
         "x": [
          "NGOBE BUGLE",
          "NGOBE BUGLE",
          "NGOBE BUGLE",
          "NGOBE BUGLE",
          "NGOBE BUGLE",
          "NGOBE BUGLE",
          "NGOBE BUGLE",
          "NGOBE BUGLE"
         ],
         "xaxis": "x",
         "y": [
          201,
          7,
          43,
          24,
          14,
          19,
          11,
          7
         ],
         "yaxis": "y"
        },
        {
         "hovertemplate": "<b>%{hovertext}</b><br><br>Distrito=CHAGRES<br>Region=%{x}<br>Casos=%{marker.size}<extra></extra>",
         "hovertext": [
          "PALMAS BELLAS",
          "SALUD",
          "ACHIOTE",
          "PIÑA",
          "NUEVO CHAGRES",
          "EL GUABO",
          "LA ENCANTADA"
         ],
         "legendgroup": "CHAGRES",
         "marker": {
          "color": "#FFA15A",
          "size": [
           71,
           57,
           15,
           24,
           57,
           34,
           6
          ],
          "sizemode": "area",
          "sizeref": 5.514375,
          "symbol": "circle"
         },
         "mode": "markers",
         "name": "CHAGRES",
         "orientation": "v",
         "showlegend": true,
         "type": "scatter",
         "x": [
          "COLON",
          "COLON",
          "COLON",
          "COLON",
          "COLON",
          "COLON",
          "COLON"
         ],
         "xaxis": "x",
         "y": [
          71,
          57,
          15,
          24,
          57,
          34,
          6
         ],
         "yaxis": "y"
        },
        {
         "hovertemplate": "<b>%{hovertext}</b><br><br>Distrito=CHIRIQUI GRANDE<br>Region=%{x}<br>Casos=%{marker.size}<extra></extra>",
         "hovertext": [
          "MIRAMAR (BOCAS DEL TORO)",
          "CHIRIQUI GRANDE",
          "PUNTA PEÑA",
          "RAMBALA",
          "BAJO CEDRO",
          "PUNTA ROBALO",
          "PUNTA PEñA"
         ],
         "legendgroup": "CHIRIQUI GRANDE",
         "marker": {
          "color": "#19d3f3",
          "size": [
           64,
           307,
           81,
           131,
           20,
           15,
           1
          ],
          "sizemode": "area",
          "sizeref": 5.514375,
          "symbol": "circle"
         },
         "mode": "markers",
         "name": "CHIRIQUI GRANDE",
         "orientation": "v",
         "showlegend": true,
         "type": "scatter",
         "x": [
          "BOCAS DEL TORO",
          "BOCAS DEL TORO",
          "BOCAS DEL TORO",
          "BOCAS DEL TORO",
          "BOCAS DEL TORO",
          "BOCAS DEL TORO",
          "BOCAS DEL TORO"
         ],
         "xaxis": "x",
         "y": [
          64,
          307,
          81,
          131,
          20,
          15,
          1
         ],
         "yaxis": "y"
        },
        {
         "hovertemplate": "<b>%{hovertext}</b><br><br>Distrito=MACARACAS<br>Region=%{x}<br>Casos=%{marker.size}<extra></extra>",
         "hovertext": [
          "MACARACAS",
          "LLANO DE PIEDRA",
          "CHUPA",
          "COROZAL (LOS SANTOS)",
          "LAS PALMAS (LOS SANTOS)",
          "LA MESA (LOS SANTOS)",
          "BAHIA HONDA (LOS SANTOS)",
          "BAJOS DE GUERA",
          "ESPINO AMARILLO"
         ],
         "legendgroup": "MACARACAS",
         "marker": {
          "color": "#FF6692",
          "size": [
           204,
           51,
           33,
           12,
           6,
           9,
           23,
           3,
           5
          ],
          "sizemode": "area",
          "sizeref": 5.514375,
          "symbol": "circle"
         },
         "mode": "markers",
         "name": "MACARACAS",
         "orientation": "v",
         "showlegend": true,
         "type": "scatter",
         "x": [
          "LOS SANTOS",
          "LOS SANTOS",
          "LOS SANTOS",
          "LOS SANTOS",
          "LOS SANTOS",
          "LOS SANTOS",
          "LOS SANTOS",
          "LOS SANTOS",
          "LOS SANTOS"
         ],
         "xaxis": "x",
         "y": [
          204,
          51,
          33,
          12,
          6,
          9,
          23,
          3,
          5
         ],
         "yaxis": "y"
        },
        {
         "hovertemplate": "<b>%{hovertext}</b><br><br>Distrito=LAS PALMAS<br>Region=%{x}<br>Casos=%{marker.size}<extra></extra>",
         "hovertext": [
          "LAS PALMAS (VERAGUAS)",
          "COROZAL (VERAGUAS)",
          "VIGUI",
          "EL PRADO",
          "PIXVAE",
          "EL MARIA",
          "CERRO DE CASA",
          "PUERTO VIDAL",
          "ZAPOTILLO",
          "EL RINCON (VERAGUAS)",
          "SAN MARTIN DE PORRES (LAS PALMAS)",
          "LOLA",
          "MANUEL E. AMADOR TERRERO"
         ],
         "legendgroup": "LAS PALMAS",
         "marker": {
          "color": "#B6E880",
          "size": [
           191,
           19,
           21,
           79,
           17,
           29,
           19,
           74,
           53,
           67,
           12,
           18,
           2
          ],
          "sizemode": "area",
          "sizeref": 5.514375,
          "symbol": "circle"
         },
         "mode": "markers",
         "name": "LAS PALMAS",
         "orientation": "v",
         "showlegend": true,
         "type": "scatter",
         "x": [
          "VERAGUAS",
          "VERAGUAS",
          "VERAGUAS",
          "VERAGUAS",
          "VERAGUAS",
          "VERAGUAS",
          "VERAGUAS",
          "VERAGUAS",
          "VERAGUAS",
          "VERAGUAS",
          "VERAGUAS",
          "VERAGUAS",
          "VERAGUAS"
         ],
         "xaxis": "x",
         "y": [
          191,
          19,
          21,
          79,
          17,
          29,
          19,
          74,
          53,
          67,
          12,
          18,
          2
         ],
         "yaxis": "y"
        },
        {
         "hovertemplate": "<b>%{hovertext}</b><br><br>Distrito=OLA<br>Region=%{x}<br>Casos=%{marker.size}<extra></extra>",
         "hovertext": [
          "OLA",
          "LA PAVA",
          "EL COPE",
          "EL PALMAR",
          "EL PICACHO"
         ],
         "legendgroup": "OLA",
         "marker": {
          "color": "#FF97FF",
          "size": [
           93,
           77,
           111,
           26,
           18
          ],
          "sizemode": "area",
          "sizeref": 5.514375,
          "symbol": "circle"
         },
         "mode": "markers",
         "name": "OLA",
         "orientation": "v",
         "showlegend": true,
         "type": "scatter",
         "x": [
          "COCLE",
          "COCLE",
          "COCLE",
          "COCLE",
          "COCLE"
         ],
         "xaxis": "x",
         "y": [
          93,
          77,
          111,
          26,
          18
         ],
         "yaxis": "y"
        },
        {
         "hovertemplate": "<b>%{hovertext}</b><br><br>Distrito=ALMIRANTE<br>Region=%{x}<br>Casos=%{marker.size}<extra></extra>",
         "hovertext": [
          "ALMIRANTE",
          "BARRIADA GUAYMI",
          "VALLE DEL RISCO",
          "VALLE DE AGUA ARRIBA",
          "BARRIO FRANCES",
          "NANCE DEL RISCO"
         ],
         "legendgroup": "ALMIRANTE",
         "marker": {
          "color": "#FECB52",
          "size": [
           407,
           146,
           31,
           18,
           107,
           11
          ],
          "sizemode": "area",
          "sizeref": 5.514375,
          "symbol": "circle"
         },
         "mode": "markers",
         "name": "ALMIRANTE",
         "orientation": "v",
         "showlegend": true,
         "type": "scatter",
         "x": [
          "BOCAS DEL TORO",
          "BOCAS DEL TORO",
          "BOCAS DEL TORO",
          "BOCAS DEL TORO",
          "BOCAS DEL TORO",
          "BOCAS DEL TORO"
         ],
         "xaxis": "x",
         "y": [
          407,
          146,
          31,
          18,
          107,
          11
         ],
         "yaxis": "y"
        },
        {
         "hovertemplate": "<b>%{hovertext}</b><br><br>Distrito=JIRONDAI<br>Region=%{x}<br>Casos=%{marker.size}<extra></extra>",
         "hovertext": [
          "BURI",
          "TUWAI",
          "SAMBOA",
          "MANCREEK",
          "GUARIVIARA"
         ],
         "legendgroup": "JIRONDAI",
         "marker": {
          "color": "#636efa",
          "size": [
           86,
           138,
           8,
           34,
           13
          ],
          "sizemode": "area",
          "sizeref": 5.514375,
          "symbol": "circle"
         },
         "mode": "markers",
         "name": "JIRONDAI",
         "orientation": "v",
         "showlegend": true,
         "type": "scatter",
         "x": [
          "NGOBE BUGLE",
          "NGOBE BUGLE",
          "NGOBE BUGLE",
          "NGOBE BUGLE",
          "NGOBE BUGLE"
         ],
         "xaxis": "x",
         "y": [
          86,
          138,
          8,
          34,
          13
         ],
         "yaxis": "y"
        },
        {
         "hovertemplate": "<b>%{hovertext}</b><br><br>Distrito=MARIATO<br>Region=%{x}<br>Casos=%{marker.size}<extra></extra>",
         "hovertext": [
          "TEBARIO",
          "LLANO DE CATIVAL",
          "ARENAS",
          "QUEBRO",
          "EL CACAO (VERAGUAS)"
         ],
         "legendgroup": "MARIATO",
         "marker": {
          "color": "#EF553B",
          "size": [
           35,
           150,
           27,
           38,
           25
          ],
          "sizemode": "area",
          "sizeref": 5.514375,
          "symbol": "circle"
         },
         "mode": "markers",
         "name": "MARIATO",
         "orientation": "v",
         "showlegend": true,
         "type": "scatter",
         "x": [
          "VERAGUAS",
          "VERAGUAS",
          "VERAGUAS",
          "VERAGUAS",
          "VERAGUAS"
         ],
         "xaxis": "x",
         "y": [
          35,
          150,
          27,
          38,
          25
         ],
         "yaxis": "y"
        },
        {
         "hovertemplate": "<b>%{hovertext}</b><br><br>Distrito=KANKINTU<br>Region=%{x}<br>Casos=%{marker.size}<extra></extra>",
         "hovertext": [
          "BISIRA",
          "KANKINTU",
          "TOLOTE",
          "GUORONI",
          "MUNUNI",
          "PIEDRA ROJA"
         ],
         "legendgroup": "KANKINTU",
         "marker": {
          "color": "#00cc96",
          "size": [
           93,
           212,
           18,
           2,
           19,
           1
          ],
          "sizemode": "area",
          "sizeref": 5.514375,
          "symbol": "circle"
         },
         "mode": "markers",
         "name": "KANKINTU",
         "orientation": "v",
         "showlegend": true,
         "type": "scatter",
         "x": [
          "NGOBE BUGLE",
          "NGOBE BUGLE",
          "NGOBE BUGLE",
          "NGOBE BUGLE",
          "NGOBE BUGLE",
          "NGOBE BUGLE"
         ],
         "xaxis": "x",
         "y": [
          93,
          212,
          18,
          2,
          19,
          1
         ],
         "yaxis": "y"
        },
        {
         "hovertemplate": "<b>%{hovertext}</b><br><br>Distrito=GUARARE<br>Region=%{x}<br>Casos=%{marker.size}<extra></extra>",
         "hovertext": [
          "LA PASERA",
          "LLANO ABAJO",
          "GUARARE",
          "LA ENEA",
          "LAS TRANCAS",
          "EL ESPINAL",
          "GUARARE ARRIBA",
          "PERALES",
          "EL MACANO",
          "EL HATO (LOS SANTOS)"
         ],
         "legendgroup": "GUARARE",
         "marker": {
          "color": "#ab63fa",
          "size": [
           32,
           17,
           161,
           49,
           28,
           33,
           9,
           5,
           4,
           7
          ],
          "sizemode": "area",
          "sizeref": 5.514375,
          "symbol": "circle"
         },
         "mode": "markers",
         "name": "GUARARE",
         "orientation": "v",
         "showlegend": true,
         "type": "scatter",
         "x": [
          "LOS SANTOS",
          "LOS SANTOS",
          "LOS SANTOS",
          "LOS SANTOS",
          "LOS SANTOS",
          "LOS SANTOS",
          "LOS SANTOS",
          "LOS SANTOS",
          "LOS SANTOS",
          "LOS SANTOS"
         ],
         "xaxis": "x",
         "y": [
          32,
          17,
          161,
          49,
          28,
          33,
          9,
          5,
          4,
          7
         ],
         "yaxis": "y"
        },
        {
         "hovertemplate": "<b>%{hovertext}</b><br><br>Distrito=LAS TABLAS<br>Region=%{x}<br>Casos=%{marker.size}<extra></extra>",
         "hovertext": [
          "LAS TABLAS (LOS SANTOS)",
          "SANTO DOMINGO (LOS SANTOS)",
          "LA TIZA",
          "LA PALMA (LOS SANTOS)",
          "VALLE RICO",
          "EL CARATE",
          "EL COCAL",
          "LAS TABLAS ABAJO",
          "LAS PALMITAS",
          "EL MANANTIAL",
          "BAYANO",
          "SESTEADERO",
          "LA MIEL",
          "PEÑA BLANCA (LOS SANTOS)",
          "SAN JOSE (LOS SANTOS)",
          "BAJO CORRAL",
          "LA LAJA",
          "EL PEDREGOSO (LOS SANTOS)",
          "EL MUÑOZ",
          "VALLERRIQUITO"
         ],
         "legendgroup": "LAS TABLAS",
         "marker": {
          "color": "#FFA15A",
          "size": [
           653,
           113,
           65,
           53,
           6,
           23,
           104,
           66,
           80,
           10,
           4,
           21,
           8,
           24,
           16,
           15,
           13,
           1,
           1,
           1
          ],
          "sizemode": "area",
          "sizeref": 5.514375,
          "symbol": "circle"
         },
         "mode": "markers",
         "name": "LAS TABLAS",
         "orientation": "v",
         "showlegend": true,
         "type": "scatter",
         "x": [
          "LOS SANTOS",
          "LOS SANTOS",
          "LOS SANTOS",
          "LOS SANTOS",
          "LOS SANTOS",
          "LOS SANTOS",
          "LOS SANTOS",
          "LOS SANTOS",
          "LOS SANTOS",
          "LOS SANTOS",
          "LOS SANTOS",
          "LOS SANTOS",
          "LOS SANTOS",
          "LOS SANTOS",
          "LOS SANTOS",
          "LOS SANTOS",
          "LOS SANTOS",
          "LOS SANTOS",
          "LOS SANTOS",
          "LOS SANTOS"
         ],
         "xaxis": "x",
         "y": [
          653,
          113,
          65,
          53,
          6,
          23,
          104,
          66,
          80,
          10,
          4,
          21,
          8,
          24,
          16,
          15,
          13,
          1,
          1,
          1
         ],
         "yaxis": "y"
        },
        {
         "hovertemplate": "<b>%{hovertext}</b><br><br>Distrito=BOCAS DEL TORO<br>Region=%{x}<br>Casos=%{marker.size}<extra></extra>",
         "hovertext": [
          "BOCAS DEL TORO",
          "CAUCHERO",
          "BASTIMENTOS",
          "PUNTA LAUREL",
          "TIERRA OSCURA"
         ],
         "legendgroup": "BOCAS DEL TORO",
         "marker": {
          "color": "#19d3f3",
          "size": [
           643,
           9,
           50,
           10,
           15
          ],
          "sizemode": "area",
          "sizeref": 5.514375,
          "symbol": "circle"
         },
         "mode": "markers",
         "name": "BOCAS DEL TORO",
         "orientation": "v",
         "showlegend": true,
         "type": "scatter",
         "x": [
          "BOCAS DEL TORO",
          "BOCAS DEL TORO",
          "BOCAS DEL TORO",
          "BOCAS DEL TORO",
          "BOCAS DEL TORO"
         ],
         "xaxis": "x",
         "y": [
          643,
          9,
          50,
          10,
          15
         ],
         "yaxis": "y"
        },
        {
         "hovertemplate": "<b>%{hovertext}</b><br><br>Distrito=NOLE DUIMA<br>Region=%{x}<br>Casos=%{marker.size}<extra></extra>",
         "hovertext": [
          "SUSAMA",
          "CERRO IGLESIAS",
          "LAJERO",
          "HATO CHAMI",
          "JADABERI",
          "LAJEROS"
         ],
         "legendgroup": "NOLE DUIMA",
         "marker": {
          "color": "#FF6692",
          "size": [
           94,
           75,
           43,
           125,
           11,
           5
          ],
          "sizemode": "area",
          "sizeref": 5.514375,
          "symbol": "circle"
         },
         "mode": "markers",
         "name": "NOLE DUIMA",
         "orientation": "v",
         "showlegend": true,
         "type": "scatter",
         "x": [
          "NGOBE BUGLE",
          "NGOBE BUGLE",
          "NGOBE BUGLE",
          "NGOBE BUGLE",
          "NGOBE BUGLE",
          "NGOBE BUGLE"
         ],
         "xaxis": "x",
         "y": [
          94,
          75,
          43,
          125,
          11,
          5
         ],
         "yaxis": "y"
        },
        {
         "hovertemplate": "<b>%{hovertext}</b><br><br>Distrito=ÑURUM<br>Region=%{x}<br>Casos=%{marker.size}<extra></extra>",
         "hovertext": [
          "CERRO PELADO",
          "BUENOS AIRES (NGOBE BUGLE)",
          "EL PIRO",
          "EL PIRON2",
          "ALTO DE JESUS (NGOBE BUGLE)",
          "GUAYABITO (NGOBE BUGLE)",
          "EL PEÑON",
          "AGUA DE SALUD",
          "EL BALE",
          "EL PAREDON",
          "GUIBALE"
         ],
         "legendgroup": "ÑURUM",
         "marker": {
          "color": "#B6E880",
          "size": [
           246,
           15,
           99,
           21,
           44,
           3,
           68,
           11,
           49,
           3,
           34
          ],
          "sizemode": "area",
          "sizeref": 5.514375,
          "symbol": "circle"
         },
         "mode": "markers",
         "name": "ÑURUM",
         "orientation": "v",
         "showlegend": true,
         "type": "scatter",
         "x": [
          "NGOBE BUGLE",
          "NGOBE BUGLE",
          "NGOBE BUGLE",
          "NGOBE BUGLE",
          "NGOBE BUGLE",
          "NGOBE BUGLE",
          "NGOBE BUGLE",
          "NGOBE BUGLE",
          "NGOBE BUGLE",
          "NGOBE BUGLE",
          "NGOBE BUGLE"
         ],
         "xaxis": "x",
         "y": [
          246,
          15,
          99,
          21,
          44,
          3,
          68,
          11,
          49,
          3,
          34
         ],
         "yaxis": "y"
        },
        {
         "hovertemplate": "<b>%{hovertext}</b><br><br>Distrito=TONOSI<br>Region=%{x}<br>Casos=%{marker.size}<extra></extra>",
         "hovertext": [
          "EL CACAO (LOS SANTOS)",
          "FLORES",
          "TONOSI",
          "CAÑAS",
          "EL BEBEDERO",
          "EL CORTEZO",
          "ALTOS DE GUERA",
          "ISLA CAÑAS",
          "GUANICO",
          "CAMBUTAL",
          "LA TRONOSA"
         ],
         "legendgroup": "TONOSI",
         "marker": {
          "color": "#FF97FF",
          "size": [
           39,
           2,
           55,
           5,
           25,
           8,
           15,
           1,
           5,
           7,
           4
          ],
          "sizemode": "area",
          "sizeref": 5.514375,
          "symbol": "circle"
         },
         "mode": "markers",
         "name": "TONOSI",
         "orientation": "v",
         "showlegend": true,
         "type": "scatter",
         "x": [
          "LOS SANTOS",
          "LOS SANTOS",
          "LOS SANTOS",
          "LOS SANTOS",
          "LOS SANTOS",
          "LOS SANTOS",
          "LOS SANTOS",
          "LOS SANTOS",
          "LOS SANTOS",
          "LOS SANTOS",
          "LOS SANTOS"
         ],
         "xaxis": "x",
         "y": [
          39,
          2,
          55,
          5,
          25,
          8,
          15,
          1,
          5,
          7,
          4
         ],
         "yaxis": "y"
        },
        {
         "hovertemplate": "<b>%{hovertext}</b><br><br>Distrito=SANTA ISABEL<br>Region=%{x}<br>Casos=%{marker.size}<extra></extra>",
         "hovertext": [
          "NOMBRE DE DIOS",
          "SANTA ISABEL",
          "CUANGO",
          "PALENQUE",
          "PLAYA CHIQUITA",
          "MIRAMAR (COLON)",
          "PALMIRA (COLON)",
          "VIENTO FRIO"
         ],
         "legendgroup": "SANTA ISABEL",
         "marker": {
          "color": "#FECB52",
          "size": [
           32,
           40,
           8,
           34,
           9,
           15,
           12,
           7
          ],
          "sizemode": "area",
          "sizeref": 5.514375,
          "symbol": "circle"
         },
         "mode": "markers",
         "name": "SANTA ISABEL",
         "orientation": "v",
         "showlegend": true,
         "type": "scatter",
         "x": [
          "COLON",
          "COLON",
          "COLON",
          "COLON",
          "COLON",
          "COLON",
          "COLON",
          "COLON"
         ],
         "xaxis": "x",
         "y": [
          32,
          40,
          8,
          34,
          9,
          15,
          12,
          7
         ],
         "yaxis": "y"
        },
        {
         "hovertemplate": "<b>%{hovertext}</b><br><br>Distrito=KUSAPIN<br>Region=%{x}<br>Casos=%{marker.size}<extra></extra>",
         "hovertext": [
          "CAÑAVERAL (NGOBE BUBLE)",
          "KUSAPIN",
          "BAHIA AZUL",
          "RIO CHIRIQUI",
          "TOBOBE"
         ],
         "legendgroup": "KUSAPIN",
         "marker": {
          "color": "#636efa",
          "size": [
           7,
           169,
           8,
           60,
           20
          ],
          "sizemode": "area",
          "sizeref": 5.514375,
          "symbol": "circle"
         },
         "mode": "markers",
         "name": "KUSAPIN",
         "orientation": "v",
         "showlegend": true,
         "type": "scatter",
         "x": [
          "NGOBE BUGLE",
          "NGOBE BUGLE",
          "NGOBE BUGLE",
          "NGOBE BUGLE",
          "NGOBE BUGLE"
         ],
         "xaxis": "x",
         "y": [
          7,
          169,
          8,
          60,
          20
         ],
         "yaxis": "y"
        },
        {
         "hovertemplate": "<b>%{hovertext}</b><br><br>Distrito=OCU<br>Region=%{x}<br>Casos=%{marker.size}<extra></extra>",
         "hovertext": [
          "OCU",
          "LLANO GRANDE (HERRERA)",
          "PEÑAS CHATAS",
          "MENCHACA",
          "LOS LLANOS",
          "PEñAS CHATAS",
          "ENTRADERO DEL CASTILLO",
          "EL MENCHACA",
          "EL TIJERAS",
          "CERRO LARGO"
         ],
         "legendgroup": "OCU",
         "marker": {
          "color": "#EF553B",
          "size": [
           512,
           37,
           84,
           70,
           100,
           2,
           14,
           30,
           7,
           1
          ],
          "sizemode": "area",
          "sizeref": 5.514375,
          "symbol": "circle"
         },
         "mode": "markers",
         "name": "OCU",
         "orientation": "v",
         "showlegend": true,
         "type": "scatter",
         "x": [
          "HERRERA",
          "HERRERA",
          "HERRERA",
          "HERRERA",
          "HERRERA",
          "HERRERA",
          "HERRERA",
          "HERRERA",
          "HERRERA",
          "HERRERA"
         ],
         "xaxis": "x",
         "y": [
          512,
          37,
          84,
          70,
          100,
          2,
          14,
          30,
          7,
          1
         ],
         "yaxis": "y"
        },
        {
         "hovertemplate": "<b>%{hovertext}</b><br><br>Distrito=SAN FRANCISCO<br>Region=%{x}<br>Casos=%{marker.size}<extra></extra>",
         "hovertext": [
          "SAN FRANCISCO (VERAGUAS)",
          "SAN JUAN (VERAGUAS)",
          "REMANCE",
          "SAN JOSE (SAN FRANCISCO)",
          "LOS HATILLOS",
          "CORRAL FALSO"
         ],
         "legendgroup": "SAN FRANCISCO",
         "marker": {
          "color": "#00cc96",
          "size": [
           255,
           35,
           50,
           102,
           29,
           23
          ],
          "sizemode": "area",
          "sizeref": 5.514375,
          "symbol": "circle"
         },
         "mode": "markers",
         "name": "SAN FRANCISCO",
         "orientation": "v",
         "showlegend": true,
         "type": "scatter",
         "x": [
          "VERAGUAS",
          "VERAGUAS",
          "VERAGUAS",
          "VERAGUAS",
          "VERAGUAS",
          "VERAGUAS"
         ],
         "xaxis": "x",
         "y": [
          255,
          35,
          50,
          102,
          29,
          23
         ],
         "yaxis": "y"
        },
        {
         "hovertemplate": "<b>%{hovertext}</b><br><br>Distrito=TOLE<br>Region=%{x}<br>Casos=%{marker.size}<extra></extra>",
         "hovertext": [
          "QUEBRADA DE PIEDRA",
          "TOLE",
          "VELADERO",
          "LAJAS DE TOLE",
          "BELLA VISTA (CHIRIQUI)",
          "CERRO VIEJO",
          "JUSTO FIDEL PALACIOS",
          "EL CRISTO (CHIRIQUI)",
          "POTRERO DE CAÑA"
         ],
         "legendgroup": "TOLE",
         "marker": {
          "color": "#ab63fa",
          "size": [
           52,
           199,
           47,
           23,
           138,
           60,
           4,
           15,
           9
          ],
          "sizemode": "area",
          "sizeref": 5.514375,
          "symbol": "circle"
         },
         "mode": "markers",
         "name": "TOLE",
         "orientation": "v",
         "showlegend": true,
         "type": "scatter",
         "x": [
          "CHIRIQUI",
          "CHIRIQUI",
          "CHIRIQUI",
          "CHIRIQUI",
          "CHIRIQUI",
          "CHIRIQUI",
          "CHIRIQUI",
          "CHIRIQUI",
          "CHIRIQUI"
         ],
         "xaxis": "x",
         "y": [
          52,
          199,
          47,
          23,
          138,
          60,
          4,
          15,
          9
         ],
         "yaxis": "y"
        },
        {
         "hovertemplate": "<b>%{hovertext}</b><br><br>Distrito=BALBOA<br>Region=%{x}<br>Casos=%{marker.size}<extra></extra>",
         "hovertext": [
          "LA GUINEA",
          "SAN MIGUEL (PANAMA ESTE)",
          "LA ESMERALDA",
          "PEDRO GONZALEZ",
          "SABOGA",
          "LA ENSENADA"
         ],
         "legendgroup": "BALBOA",
         "marker": {
          "color": "#FFA15A",
          "size": [
           2,
           77,
           13,
           19,
           19,
           5
          ],
          "sizemode": "area",
          "sizeref": 5.514375,
          "symbol": "circle"
         },
         "mode": "markers",
         "name": "BALBOA",
         "orientation": "v",
         "showlegend": true,
         "type": "scatter",
         "x": [
          "PANAMA ESTE",
          "PANAMA ESTE",
          "PANAMA ESTE",
          "PANAMA ESTE",
          "PANAMA ESTE",
          "PANAMA ESTE"
         ],
         "xaxis": "x",
         "y": [
          2,
          77,
          13,
          19,
          19,
          5
         ],
         "yaxis": "y"
        },
        {
         "hovertemplate": "<b>%{hovertext}</b><br><br>Distrito=MIRONO<br>Region=%{x}<br>Casos=%{marker.size}<extra></extra>",
         "hovertext": [
          "HATO JOBO",
          "CASCABEL",
          "HATO PILON",
          "HATO CULANTRO",
          "HATO JULI",
          "SALTO DUPI",
          "HATO COROTU",
          "QUEBRADA DE LORO (NGOBE BUGLE)"
         ],
         "legendgroup": "MIRONO",
         "marker": {
          "color": "#19d3f3",
          "size": [
           4,
           4,
           41,
           9,
           38,
           11,
           46,
           53
          ],
          "sizemode": "area",
          "sizeref": 5.514375,
          "symbol": "circle"
         },
         "mode": "markers",
         "name": "MIRONO",
         "orientation": "v",
         "showlegend": true,
         "type": "scatter",
         "x": [
          "NGOBE BUGLE",
          "NGOBE BUGLE",
          "NGOBE BUGLE",
          "NGOBE BUGLE",
          "NGOBE BUGLE",
          "NGOBE BUGLE",
          "NGOBE BUGLE",
          "NGOBE BUGLE"
         ],
         "xaxis": "x",
         "y": [
          4,
          4,
          41,
          9,
          38,
          11,
          46,
          53
         ],
         "yaxis": "y"
        },
        {
         "hovertemplate": "<b>%{hovertext}</b><br><br>Distrito=SANTA CATALINA O CALOVEBORA<br>Region=%{x}<br>Casos=%{marker.size}<extra></extra>",
         "hovertext": [
          "SANTA CATALINA O CALOVEBORA (BLEDESHIA)",
          "SAN PEDRITO",
          "LOMA YUCA",
          "VALLE BONITO",
          "ALTO BILINGUE"
         ],
         "legendgroup": "SANTA CATALINA O CALOVEBORA",
         "marker": {
          "color": "#FF6692",
          "size": [
           98,
           15,
           4,
           6,
           1
          ],
          "sizemode": "area",
          "sizeref": 5.514375,
          "symbol": "circle"
         },
         "mode": "markers",
         "name": "SANTA CATALINA O CALOVEBORA",
         "orientation": "v",
         "showlegend": true,
         "type": "scatter",
         "x": [
          "NGOBE BUGLE",
          "NGOBE BUGLE",
          "NGOBE BUGLE",
          "NGOBE BUGLE",
          "NGOBE BUGLE"
         ],
         "xaxis": "x",
         "y": [
          98,
          15,
          4,
          6,
          1
         ],
         "yaxis": "y"
        },
        {
         "hovertemplate": "<b>%{hovertext}</b><br><br>Distrito=TABOGA<br>Region=%{x}<br>Casos=%{marker.size}<extra></extra>",
         "hovertext": [
          "TABOGA",
          "OTOQUE ORIENTE",
          "OTOQUE OCCIDENTE"
         ],
         "legendgroup": "TABOGA",
         "marker": {
          "color": "#B6E880",
          "size": [
           60,
           34,
           1
          ],
          "sizemode": "area",
          "sizeref": 5.514375,
          "symbol": "circle"
         },
         "mode": "markers",
         "name": "TABOGA",
         "orientation": "v",
         "showlegend": true,
         "type": "scatter",
         "x": [
          "METROPOLITANA",
          "METROPOLITANA",
          "METROPOLITANA"
         ],
         "xaxis": "x",
         "y": [
          60,
          34,
          1
         ],
         "yaxis": "y"
        },
        {
         "hovertemplate": "<b>%{hovertext}</b><br><br>Distrito=PEDASI<br>Region=%{x}<br>Casos=%{marker.size}<extra></extra>",
         "hovertext": [
          "PEDASI",
          "PURIO",
          "MARIABE",
          "ORIA ARRIBA",
          "LOS ASIENTOS"
         ],
         "legendgroup": "PEDASI",
         "marker": {
          "color": "#FF97FF",
          "size": [
           80,
           16,
           1,
           8,
           6
          ],
          "sizemode": "area",
          "sizeref": 5.514375,
          "symbol": "circle"
         },
         "mode": "markers",
         "name": "PEDASI",
         "orientation": "v",
         "showlegend": true,
         "type": "scatter",
         "x": [
          "LOS SANTOS",
          "LOS SANTOS",
          "LOS SANTOS",
          "LOS SANTOS",
          "LOS SANTOS"
         ],
         "xaxis": "x",
         "y": [
          80,
          16,
          1,
          8,
          6
         ],
         "yaxis": "y"
        },
        {
         "hovertemplate": "<b>%{hovertext}</b><br><br>Distrito=CHIMAN<br>Region=%{x}<br>Casos=%{marker.size}<extra></extra>",
         "hovertext": [
          "CHIMAN",
          "UNION SANTEÑA",
          "PASIGA",
          "BRUJAS"
         ],
         "legendgroup": "CHIMAN",
         "marker": {
          "color": "#FECB52",
          "size": [
           86,
           32,
           6,
           14
          ],
          "sizemode": "area",
          "sizeref": 5.514375,
          "symbol": "circle"
         },
         "mode": "markers",
         "name": "CHIMAN",
         "orientation": "v",
         "showlegend": true,
         "type": "scatter",
         "x": [
          "PANAMA ESTE",
          "PANAMA ESTE",
          "PANAMA ESTE",
          "PANAMA ESTE"
         ],
         "xaxis": "x",
         "y": [
          86,
          32,
          6,
          14
         ],
         "yaxis": "y"
        },
        {
         "hovertemplate": "<b>%{hovertext}</b><br><br>Distrito=POCRI<br>Region=%{x}<br>Casos=%{marker.size}<extra></extra>",
         "hovertext": [
          "PARAISO (LOS SANTOS)",
          "PARITILLA",
          "EL CANAFISTULO",
          "LAJAMINA",
          "POCRI (LOS SANTOS)"
         ],
         "legendgroup": "POCRI",
         "marker": {
          "color": "#636efa",
          "size": [
           20,
           24,
           12,
           15,
           12
          ],
          "sizemode": "area",
          "sizeref": 5.514375,
          "symbol": "circle"
         },
         "mode": "markers",
         "name": "POCRI",
         "orientation": "v",
         "showlegend": true,
         "type": "scatter",
         "x": [
          "LOS SANTOS",
          "LOS SANTOS",
          "LOS SANTOS",
          "LOS SANTOS",
          "LOS SANTOS"
         ],
         "xaxis": "x",
         "y": [
          20,
          24,
          12,
          15,
          12
         ],
         "yaxis": "y"
        }
       ],
       "layout": {
        "legend": {
         "itemsizing": "constant",
         "title": {
          "text": "Distrito"
         },
         "tracegroupgap": 0
        },
        "margin": {
         "t": 60
        },
        "template": {
         "data": {
          "bar": [
           {
            "error_x": {
             "color": "#2a3f5f"
            },
            "error_y": {
             "color": "#2a3f5f"
            },
            "marker": {
             "line": {
              "color": "#E5ECF6",
              "width": 0.5
             },
             "pattern": {
              "fillmode": "overlay",
              "size": 10,
              "solidity": 0.2
             }
            },
            "type": "bar"
           }
          ],
          "barpolar": [
           {
            "marker": {
             "line": {
              "color": "#E5ECF6",
              "width": 0.5
             },
             "pattern": {
              "fillmode": "overlay",
              "size": 10,
              "solidity": 0.2
             }
            },
            "type": "barpolar"
           }
          ],
          "carpet": [
           {
            "aaxis": {
             "endlinecolor": "#2a3f5f",
             "gridcolor": "white",
             "linecolor": "white",
             "minorgridcolor": "white",
             "startlinecolor": "#2a3f5f"
            },
            "baxis": {
             "endlinecolor": "#2a3f5f",
             "gridcolor": "white",
             "linecolor": "white",
             "minorgridcolor": "white",
             "startlinecolor": "#2a3f5f"
            },
            "type": "carpet"
           }
          ],
          "choropleth": [
           {
            "colorbar": {
             "outlinewidth": 0,
             "ticks": ""
            },
            "type": "choropleth"
           }
          ],
          "contour": [
           {
            "colorbar": {
             "outlinewidth": 0,
             "ticks": ""
            },
            "colorscale": [
             [
              0,
              "#0d0887"
             ],
             [
              0.1111111111111111,
              "#46039f"
             ],
             [
              0.2222222222222222,
              "#7201a8"
             ],
             [
              0.3333333333333333,
              "#9c179e"
             ],
             [
              0.4444444444444444,
              "#bd3786"
             ],
             [
              0.5555555555555556,
              "#d8576b"
             ],
             [
              0.6666666666666666,
              "#ed7953"
             ],
             [
              0.7777777777777778,
              "#fb9f3a"
             ],
             [
              0.8888888888888888,
              "#fdca26"
             ],
             [
              1,
              "#f0f921"
             ]
            ],
            "type": "contour"
           }
          ],
          "contourcarpet": [
           {
            "colorbar": {
             "outlinewidth": 0,
             "ticks": ""
            },
            "type": "contourcarpet"
           }
          ],
          "heatmap": [
           {
            "colorbar": {
             "outlinewidth": 0,
             "ticks": ""
            },
            "colorscale": [
             [
              0,
              "#0d0887"
             ],
             [
              0.1111111111111111,
              "#46039f"
             ],
             [
              0.2222222222222222,
              "#7201a8"
             ],
             [
              0.3333333333333333,
              "#9c179e"
             ],
             [
              0.4444444444444444,
              "#bd3786"
             ],
             [
              0.5555555555555556,
              "#d8576b"
             ],
             [
              0.6666666666666666,
              "#ed7953"
             ],
             [
              0.7777777777777778,
              "#fb9f3a"
             ],
             [
              0.8888888888888888,
              "#fdca26"
             ],
             [
              1,
              "#f0f921"
             ]
            ],
            "type": "heatmap"
           }
          ],
          "heatmapgl": [
           {
            "colorbar": {
             "outlinewidth": 0,
             "ticks": ""
            },
            "colorscale": [
             [
              0,
              "#0d0887"
             ],
             [
              0.1111111111111111,
              "#46039f"
             ],
             [
              0.2222222222222222,
              "#7201a8"
             ],
             [
              0.3333333333333333,
              "#9c179e"
             ],
             [
              0.4444444444444444,
              "#bd3786"
             ],
             [
              0.5555555555555556,
              "#d8576b"
             ],
             [
              0.6666666666666666,
              "#ed7953"
             ],
             [
              0.7777777777777778,
              "#fb9f3a"
             ],
             [
              0.8888888888888888,
              "#fdca26"
             ],
             [
              1,
              "#f0f921"
             ]
            ],
            "type": "heatmapgl"
           }
          ],
          "histogram": [
           {
            "marker": {
             "pattern": {
              "fillmode": "overlay",
              "size": 10,
              "solidity": 0.2
             }
            },
            "type": "histogram"
           }
          ],
          "histogram2d": [
           {
            "colorbar": {
             "outlinewidth": 0,
             "ticks": ""
            },
            "colorscale": [
             [
              0,
              "#0d0887"
             ],
             [
              0.1111111111111111,
              "#46039f"
             ],
             [
              0.2222222222222222,
              "#7201a8"
             ],
             [
              0.3333333333333333,
              "#9c179e"
             ],
             [
              0.4444444444444444,
              "#bd3786"
             ],
             [
              0.5555555555555556,
              "#d8576b"
             ],
             [
              0.6666666666666666,
              "#ed7953"
             ],
             [
              0.7777777777777778,
              "#fb9f3a"
             ],
             [
              0.8888888888888888,
              "#fdca26"
             ],
             [
              1,
              "#f0f921"
             ]
            ],
            "type": "histogram2d"
           }
          ],
          "histogram2dcontour": [
           {
            "colorbar": {
             "outlinewidth": 0,
             "ticks": ""
            },
            "colorscale": [
             [
              0,
              "#0d0887"
             ],
             [
              0.1111111111111111,
              "#46039f"
             ],
             [
              0.2222222222222222,
              "#7201a8"
             ],
             [
              0.3333333333333333,
              "#9c179e"
             ],
             [
              0.4444444444444444,
              "#bd3786"
             ],
             [
              0.5555555555555556,
              "#d8576b"
             ],
             [
              0.6666666666666666,
              "#ed7953"
             ],
             [
              0.7777777777777778,
              "#fb9f3a"
             ],
             [
              0.8888888888888888,
              "#fdca26"
             ],
             [
              1,
              "#f0f921"
             ]
            ],
            "type": "histogram2dcontour"
           }
          ],
          "mesh3d": [
           {
            "colorbar": {
             "outlinewidth": 0,
             "ticks": ""
            },
            "type": "mesh3d"
           }
          ],
          "parcoords": [
           {
            "line": {
             "colorbar": {
              "outlinewidth": 0,
              "ticks": ""
             }
            },
            "type": "parcoords"
           }
          ],
          "pie": [
           {
            "automargin": true,
            "type": "pie"
           }
          ],
          "scatter": [
           {
            "fillpattern": {
             "fillmode": "overlay",
             "size": 10,
             "solidity": 0.2
            },
            "type": "scatter"
           }
          ],
          "scatter3d": [
           {
            "line": {
             "colorbar": {
              "outlinewidth": 0,
              "ticks": ""
             }
            },
            "marker": {
             "colorbar": {
              "outlinewidth": 0,
              "ticks": ""
             }
            },
            "type": "scatter3d"
           }
          ],
          "scattercarpet": [
           {
            "marker": {
             "colorbar": {
              "outlinewidth": 0,
              "ticks": ""
             }
            },
            "type": "scattercarpet"
           }
          ],
          "scattergeo": [
           {
            "marker": {
             "colorbar": {
              "outlinewidth": 0,
              "ticks": ""
             }
            },
            "type": "scattergeo"
           }
          ],
          "scattergl": [
           {
            "marker": {
             "colorbar": {
              "outlinewidth": 0,
              "ticks": ""
             }
            },
            "type": "scattergl"
           }
          ],
          "scattermapbox": [
           {
            "marker": {
             "colorbar": {
              "outlinewidth": 0,
              "ticks": ""
             }
            },
            "type": "scattermapbox"
           }
          ],
          "scatterpolar": [
           {
            "marker": {
             "colorbar": {
              "outlinewidth": 0,
              "ticks": ""
             }
            },
            "type": "scatterpolar"
           }
          ],
          "scatterpolargl": [
           {
            "marker": {
             "colorbar": {
              "outlinewidth": 0,
              "ticks": ""
             }
            },
            "type": "scatterpolargl"
           }
          ],
          "scatterternary": [
           {
            "marker": {
             "colorbar": {
              "outlinewidth": 0,
              "ticks": ""
             }
            },
            "type": "scatterternary"
           }
          ],
          "surface": [
           {
            "colorbar": {
             "outlinewidth": 0,
             "ticks": ""
            },
            "colorscale": [
             [
              0,
              "#0d0887"
             ],
             [
              0.1111111111111111,
              "#46039f"
             ],
             [
              0.2222222222222222,
              "#7201a8"
             ],
             [
              0.3333333333333333,
              "#9c179e"
             ],
             [
              0.4444444444444444,
              "#bd3786"
             ],
             [
              0.5555555555555556,
              "#d8576b"
             ],
             [
              0.6666666666666666,
              "#ed7953"
             ],
             [
              0.7777777777777778,
              "#fb9f3a"
             ],
             [
              0.8888888888888888,
              "#fdca26"
             ],
             [
              1,
              "#f0f921"
             ]
            ],
            "type": "surface"
           }
          ],
          "table": [
           {
            "cells": {
             "fill": {
              "color": "#EBF0F8"
             },
             "line": {
              "color": "white"
             }
            },
            "header": {
             "fill": {
              "color": "#C8D4E3"
             },
             "line": {
              "color": "white"
             }
            },
            "type": "table"
           }
          ]
         },
         "layout": {
          "annotationdefaults": {
           "arrowcolor": "#2a3f5f",
           "arrowhead": 0,
           "arrowwidth": 1
          },
          "autotypenumbers": "strict",
          "coloraxis": {
           "colorbar": {
            "outlinewidth": 0,
            "ticks": ""
           }
          },
          "colorscale": {
           "diverging": [
            [
             0,
             "#8e0152"
            ],
            [
             0.1,
             "#c51b7d"
            ],
            [
             0.2,
             "#de77ae"
            ],
            [
             0.3,
             "#f1b6da"
            ],
            [
             0.4,
             "#fde0ef"
            ],
            [
             0.5,
             "#f7f7f7"
            ],
            [
             0.6,
             "#e6f5d0"
            ],
            [
             0.7,
             "#b8e186"
            ],
            [
             0.8,
             "#7fbc41"
            ],
            [
             0.9,
             "#4d9221"
            ],
            [
             1,
             "#276419"
            ]
           ],
           "sequential": [
            [
             0,
             "#0d0887"
            ],
            [
             0.1111111111111111,
             "#46039f"
            ],
            [
             0.2222222222222222,
             "#7201a8"
            ],
            [
             0.3333333333333333,
             "#9c179e"
            ],
            [
             0.4444444444444444,
             "#bd3786"
            ],
            [
             0.5555555555555556,
             "#d8576b"
            ],
            [
             0.6666666666666666,
             "#ed7953"
            ],
            [
             0.7777777777777778,
             "#fb9f3a"
            ],
            [
             0.8888888888888888,
             "#fdca26"
            ],
            [
             1,
             "#f0f921"
            ]
           ],
           "sequentialminus": [
            [
             0,
             "#0d0887"
            ],
            [
             0.1111111111111111,
             "#46039f"
            ],
            [
             0.2222222222222222,
             "#7201a8"
            ],
            [
             0.3333333333333333,
             "#9c179e"
            ],
            [
             0.4444444444444444,
             "#bd3786"
            ],
            [
             0.5555555555555556,
             "#d8576b"
            ],
            [
             0.6666666666666666,
             "#ed7953"
            ],
            [
             0.7777777777777778,
             "#fb9f3a"
            ],
            [
             0.8888888888888888,
             "#fdca26"
            ],
            [
             1,
             "#f0f921"
            ]
           ]
          },
          "colorway": [
           "#636efa",
           "#EF553B",
           "#00cc96",
           "#ab63fa",
           "#FFA15A",
           "#19d3f3",
           "#FF6692",
           "#B6E880",
           "#FF97FF",
           "#FECB52"
          ],
          "font": {
           "color": "#2a3f5f"
          },
          "geo": {
           "bgcolor": "white",
           "lakecolor": "white",
           "landcolor": "#E5ECF6",
           "showlakes": true,
           "showland": true,
           "subunitcolor": "white"
          },
          "hoverlabel": {
           "align": "left"
          },
          "hovermode": "closest",
          "mapbox": {
           "style": "light"
          },
          "paper_bgcolor": "white",
          "plot_bgcolor": "#E5ECF6",
          "polar": {
           "angularaxis": {
            "gridcolor": "white",
            "linecolor": "white",
            "ticks": ""
           },
           "bgcolor": "#E5ECF6",
           "radialaxis": {
            "gridcolor": "white",
            "linecolor": "white",
            "ticks": ""
           }
          },
          "scene": {
           "xaxis": {
            "backgroundcolor": "#E5ECF6",
            "gridcolor": "white",
            "gridwidth": 2,
            "linecolor": "white",
            "showbackground": true,
            "ticks": "",
            "zerolinecolor": "white"
           },
           "yaxis": {
            "backgroundcolor": "#E5ECF6",
            "gridcolor": "white",
            "gridwidth": 2,
            "linecolor": "white",
            "showbackground": true,
            "ticks": "",
            "zerolinecolor": "white"
           },
           "zaxis": {
            "backgroundcolor": "#E5ECF6",
            "gridcolor": "white",
            "gridwidth": 2,
            "linecolor": "white",
            "showbackground": true,
            "ticks": "",
            "zerolinecolor": "white"
           }
          },
          "shapedefaults": {
           "line": {
            "color": "#2a3f5f"
           }
          },
          "ternary": {
           "aaxis": {
            "gridcolor": "white",
            "linecolor": "white",
            "ticks": ""
           },
           "baxis": {
            "gridcolor": "white",
            "linecolor": "white",
            "ticks": ""
           },
           "bgcolor": "#E5ECF6",
           "caxis": {
            "gridcolor": "white",
            "linecolor": "white",
            "ticks": ""
           }
          },
          "title": {
           "x": 0.05
          },
          "xaxis": {
           "automargin": true,
           "gridcolor": "white",
           "linecolor": "white",
           "ticks": "",
           "title": {
            "standoff": 15
           },
           "zerolinecolor": "white",
           "zerolinewidth": 2
          },
          "yaxis": {
           "automargin": true,
           "gridcolor": "white",
           "linecolor": "white",
           "ticks": "",
           "title": {
            "standoff": 15
           },
           "zerolinecolor": "white",
           "zerolinewidth": 2
          }
         }
        },
        "xaxis": {
         "anchor": "y",
         "domain": [
          0,
          1
         ],
         "title": {
          "text": "Region"
         }
        },
        "yaxis": {
         "anchor": "x",
         "domain": [
          0,
          1
         ],
         "title": {
          "text": "Casos"
         }
        }
       }
      }
     },
     "metadata": {},
     "output_type": "display_data"
    }
   ],
   "source": [
    "fig2 = px.scatter(df, x=df['Region'],\n",
    "                     y=df['Casos'],size=\"Casos\",color=\"Distrito\",hover_name=df[\"Corregimiento\"],\n",
    "                     size_max=40)\n",
    "fig2"
   ]
  },
  {
   "cell_type": "code",
   "execution_count": null,
   "metadata": {},
   "outputs": [],
   "source": []
  }
 ],
 "metadata": {
  "kernelspec": {
   "display_name": "Python 3.10.5 64-bit",
   "language": "python",
   "name": "python3"
  },
  "language_info": {
   "codemirror_mode": {
    "name": "ipython",
    "version": 3
   },
   "file_extension": ".py",
   "mimetype": "text/x-python",
   "name": "python",
   "nbconvert_exporter": "python",
   "pygments_lexer": "ipython3",
   "version": "3.10.5"
  },
  "orig_nbformat": 4,
  "vscode": {
   "interpreter": {
    "hash": "a3c7f054ef0aaeeb067c241f13f577b1db35f837273d36c7c15faf2b5723becb"
   }
  }
 },
 "nbformat": 4,
 "nbformat_minor": 2
}
